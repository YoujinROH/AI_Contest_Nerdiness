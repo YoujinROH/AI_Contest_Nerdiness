{
 "cells": [
  {
   "cell_type": "markdown",
   "id": "681d1618",
   "metadata": {
    "id": "681d1618"
   },
   "source": [
    "Nerdy Personality Attributes Scale (NPAS)\n",
    "- 응답자의 성격이 nerd로 정의된 사람들의 평균과 비슷한지, 아니면 일반 사람들의 평균과 비슷한지 측정하는 테스트\n",
    "- 26개 질문\n",
    "- https://openpsychometrics.org/tests/NPAS/"
   ]
  },
  {
   "cell_type": "markdown",
   "id": "3f99e2d2",
   "metadata": {
    "id": "3f99e2d2"
   },
   "source": [
    "### 칼럼 설명\n",
    "- Q1~Q26: 질문\n",
    "    - 대답: 1 ~ 5\n",
    "- country: 응답자의 국적\n",
    "- introelapse: intro에서 소요된 시간\n",
    "- testelapse: test에서 소요된 시간\n",
    "- surveyelapse: survey에서 소요된 시간\n",
    "- TIPI1~TIPI10: 본인을 나타내는 단어 \n",
    "    - 대답: 1(전혀 아니다) ~ 7(매우 그렇다)\n",
    "- VCL1~VCL16: 지식 수준?, 정확한 의미를 아는 단어 체크 \n",
    "    - 대답: 1(안다), 0 (모른다)\n",
    "- education: 교육 수준\n",
    "- urban: 거주 지역\n",
    "- gender: 성별\n",
    "- engnat: 영어가 모국어인지의 여부\n",
    "- age: 나이\n",
    "- hand: 왼손잡이 or 오른손잡이\n",
    "- religion: 종교\n",
    "- orientation: 지남력 (현재 자신이 놓여 있는 상황을 올바르게 인식하는 능력) https://www.amc.seoul.kr/asan/healthinfo/easymediterm/easyMediTermDetail.do?dictId=3798\n",
    "- voted: 투표에 참여한 횟수\n",
    "- married: 결혼한 횟수\n",
    "- familisize: 가족 구성원 수\n",
    "- ASD: 자폐스펙트럼장애 정도\n",
    "- nerdiness: *타겟변수, nerdiness 정량화하는 프로젝트, nerd인지 아닌지\n",
    "https://educalingo.com/ko/dic-en/nerdiness"
   ]
  },
  {
   "cell_type": "code",
   "execution_count": 1,
   "id": "19649b03",
   "metadata": {
    "executionInfo": {
     "elapsed": 2045,
     "status": "ok",
     "timestamp": 1660175798191,
     "user": {
      "displayName": "김두용",
      "userId": "08691716356545693462"
     },
     "user_tz": -540
    },
    "id": "19649b03"
   },
   "outputs": [],
   "source": [
    "import pandas as pd\n",
    "import seaborn as sns\n",
    "import matplotlib.pyplot as plt\n",
    "import numpy as np \n",
    "\n",
    "from string import ascii_lowercase\n",
    "from itertools import combinations\n",
    "\n",
    "import lightgbm as lgb\n",
    "from sklearn.ensemble import RandomForestClassifier\n",
    "from lightgbm import LGBMClassifier\n",
    "from sklearn.ensemble import  GradientBoostingClassifier\n",
    "\n",
    "from sklearn.ensemble import VotingClassifier\n",
    "from sklearn.model_selection import KFold\n",
    "from sklearn.model_selection import cross_val_score"
   ]
  },
  {
   "cell_type": "code",
   "execution_count": 2,
   "id": "15e7cf45",
   "metadata": {
    "colab": {
     "base_uri": "https://localhost:8080/"
    },
    "executionInfo": {
     "elapsed": 3177,
     "status": "ok",
     "timestamp": 1660177729204,
     "user": {
      "displayName": "김두용",
      "userId": "08691716356545693462"
     },
     "user_tz": -540
    },
    "id": "15e7cf45",
    "outputId": "c60196ed-0c0f-4977-d3f8-b2e72d94d135"
   },
   "outputs": [],
   "source": [
    "train = pd.read_csv('train.csv')\n",
    "test = pd.read_csv('test.csv')"
   ]
  },
  {
   "cell_type": "code",
   "execution_count": 3,
   "id": "77ebaa63",
   "metadata": {
    "executionInfo": {
     "elapsed": 14,
     "status": "ok",
     "timestamp": 1660177729205,
     "user": {
      "displayName": "김두용",
      "userId": "08691716356545693462"
     },
     "user_tz": -540
    },
    "id": "77ebaa63"
   },
   "outputs": [],
   "source": [
    "# train.head()"
   ]
  },
  {
   "cell_type": "code",
   "execution_count": 4,
   "id": "13dea7c7",
   "metadata": {
    "executionInfo": {
     "elapsed": 12,
     "status": "ok",
     "timestamp": 1660177729205,
     "user": {
      "displayName": "김두용",
      "userId": "08691716356545693462"
     },
     "user_tz": -540
    },
    "id": "13dea7c7"
   },
   "outputs": [],
   "source": [
    "# test.head()"
   ]
  },
  {
   "cell_type": "code",
   "execution_count": 5,
   "id": "d915154d",
   "metadata": {
    "executionInfo": {
     "elapsed": 12,
     "status": "ok",
     "timestamp": 1660177729206,
     "user": {
      "displayName": "김두용",
      "userId": "08691716356545693462"
     },
     "user_tz": -540
    },
    "id": "d915154d"
   },
   "outputs": [],
   "source": [
    "# train.info"
   ]
  },
  {
   "cell_type": "code",
   "execution_count": 6,
   "id": "8c8a04dd",
   "metadata": {
    "executionInfo": {
     "elapsed": 13,
     "status": "ok",
     "timestamp": 1660177729207,
     "user": {
      "displayName": "김두용",
      "userId": "08691716356545693462"
     },
     "user_tz": -540
    },
    "id": "8c8a04dd"
   },
   "outputs": [],
   "source": [
    "# train.isnull().sum()"
   ]
  },
  {
   "cell_type": "code",
   "execution_count": 7,
   "id": "9e9c8880",
   "metadata": {
    "executionInfo": {
     "elapsed": 13,
     "status": "ok",
     "timestamp": 1660177729208,
     "user": {
      "displayName": "김두용",
      "userId": "08691716356545693462"
     },
     "user_tz": -540
    },
    "id": "9e9c8880"
   },
   "outputs": [],
   "source": [
    "# test.info()"
   ]
  },
  {
   "cell_type": "code",
   "execution_count": 8,
   "id": "Civo4TNCjiTD",
   "metadata": {
    "executionInfo": {
     "elapsed": 14,
     "status": "ok",
     "timestamp": 1660177729209,
     "user": {
      "displayName": "김두용",
      "userId": "08691716356545693462"
     },
     "user_tz": -540
    },
    "id": "Civo4TNCjiTD"
   },
   "outputs": [],
   "source": [
    "x_train = train.copy()\n",
    "x_train.drop('nerdiness', axis=1, inplace = True)\n",
    "y_train = train['nerdiness']\n"
   ]
  },
  {
   "cell_type": "code",
   "execution_count": 9,
   "id": "36373d90",
   "metadata": {},
   "outputs": [
    {
     "data": {
      "text/plain": [
       "15000"
      ]
     },
     "execution_count": 9,
     "metadata": {},
     "output_type": "execute_result"
    }
   ],
   "source": [
    "len(x_train.index)"
   ]
  },
  {
   "cell_type": "code",
   "execution_count": 10,
   "id": "67b79be2",
   "metadata": {},
   "outputs": [
    {
     "data": {
      "text/plain": [
       "15000"
      ]
     },
     "execution_count": 10,
     "metadata": {},
     "output_type": "execute_result"
    }
   ],
   "source": [
    "len(y_train.index)"
   ]
  },
  {
   "cell_type": "code",
   "execution_count": 11,
   "id": "IBRviFDPSV4Q",
   "metadata": {
    "executionInfo": {
     "elapsed": 4,
     "status": "ok",
     "timestamp": 1660177730575,
     "user": {
      "displayName": "김두용",
      "userId": "08691716356545693462"
     },
     "user_tz": -540
    },
    "id": "IBRviFDPSV4Q"
   },
   "outputs": [],
   "source": [
    "dataset = [x_train, test]\n"
   ]
  },
  {
   "cell_type": "markdown",
   "id": "f0717359",
   "metadata": {
    "id": "f0717359"
   },
   "source": [
    "## Q"
   ]
  },
  {
   "cell_type": "code",
   "execution_count": 12,
   "id": "5abbbe2b",
   "metadata": {
    "colab": {
     "base_uri": "https://localhost:8080/"
    },
    "executionInfo": {
     "elapsed": 7,
     "status": "ok",
     "timestamp": 1660177732210,
     "user": {
      "displayName": "김두용",
      "userId": "08691716356545693462"
     },
     "user_tz": -540
    },
    "id": "5abbbe2b",
    "outputId": "fb6f0f34-126b-49b9-d1b8-a784f78e0531"
   },
   "outputs": [
    {
     "name": "stdout",
     "output_type": "stream",
     "text": [
      "['Q1', 'Q2', 'Q3', 'Q4', 'Q5', 'Q6', 'Q7', 'Q8', 'Q9', 'Q10', 'Q11', 'Q12', 'Q13', 'Q14', 'Q15', 'Q16', 'Q17', 'Q18', 'Q19', 'Q20', 'Q21', 'Q22', 'Q23', 'Q24', 'Q25', 'Q26']\n"
     ]
    }
   ],
   "source": [
    "Answers = []\n",
    "for i in range(1,27):\n",
    "    Answers.append('Q'+str(i))\n",
    "print(Answers)\n",
    "#Answers = train.iloc[:, 1:27]"
   ]
  },
  {
   "cell_type": "code",
   "execution_count": 13,
   "id": "69d84c92",
   "metadata": {
    "colab": {
     "base_uri": "https://localhost:8080/",
     "height": 298
    },
    "executionInfo": {
     "elapsed": 2043,
     "status": "ok",
     "timestamp": 1660177734557,
     "user": {
      "displayName": "김두용",
      "userId": "08691716356545693462"
     },
     "user_tz": -540
    },
    "id": "69d84c92",
    "outputId": "a9569924-f598-4cf5-b031-b2fa490eb7f9"
   },
   "outputs": [
    {
     "data": {
      "text/plain": [
       "<AxesSubplot:>"
      ]
     },
     "execution_count": 13,
     "metadata": {},
     "output_type": "execute_result"
    },
    {
     "data": {
      "image/png": "[encoded data removed]",
      "text/plain": [
       "<Figure size 432x288 with 2 Axes>"
      ]
     },
     "metadata": {
      "needs_background": "light"
     },
     "output_type": "display_data"
    }
   ],
   "source": [
    "correlations = train[Answers].corr(method = 'spearman')\n",
    "sns.heatmap(correlations, cmap=\"coolwarm\", square=True, center=0)"
   ]
  },
  {
   "cell_type": "markdown",
   "id": "758cdcbe",
   "metadata": {
    "id": "758cdcbe"
   },
   "source": [
    "양의 상관관계로 나와서 데이콘에서 바꿔놓은 것으로 간주\n",
    "\n",
    "*   항목 추가\n",
    "*   항목 추가\n",
    "\n",
    "\n",
    "->부호 변경 하지 않음"
   ]
  },
  {
   "cell_type": "code",
   "execution_count": 14,
   "id": "b053c77e",
   "metadata": {
    "colab": {
     "base_uri": "https://localhost:8080/"
    },
    "executionInfo": {
     "elapsed": 37,
     "status": "ok",
     "timestamp": 1660177735040,
     "user": {
      "displayName": "김두용",
      "userId": "08691716356545693462"
     },
     "user_tz": -540
    },
    "id": "b053c77e",
    "outputId": "490e63d7-1488-4f86-b5e2-0b36745580fd"
   },
   "outputs": [
    {
     "data": {
      "text/plain": [
       "Q1     41\n",
       "Q2     69\n",
       "Q3     50\n",
       "Q4     71\n",
       "Q5     38\n",
       "Q6     48\n",
       "Q7     76\n",
       "Q8     48\n",
       "Q9     56\n",
       "Q10    72\n",
       "Q11    59\n",
       "Q12    67\n",
       "Q13    40\n",
       "Q14    36\n",
       "Q15    45\n",
       "Q16    33\n",
       "Q17    37\n",
       "Q18    63\n",
       "Q19    53\n",
       "Q20    45\n",
       "Q21    39\n",
       "Q22    38\n",
       "Q23    50\n",
       "Q24    61\n",
       "Q25    44\n",
       "Q26    68\n",
       "dtype: int64"
      ]
     },
     "execution_count": 14,
     "metadata": {},
     "output_type": "execute_result"
    }
   ],
   "source": [
    "#결측값 확인\n",
    "x_train[Answers].isnull().sum()"
   ]
  },
  {
   "cell_type": "code",
   "execution_count": 15,
   "id": "58d0853f",
   "metadata": {
    "executionInfo": {
     "elapsed": 28,
     "status": "ok",
     "timestamp": 1660177735041,
     "user": {
      "displayName": "김두용",
      "userId": "08691716356545693462"
     },
     "user_tz": -540
    },
    "id": "58d0853f"
   },
   "outputs": [],
   "source": [
    "#결측값 대체\n",
    "# train[Answers] = train[Answers].fillna(train[Answers].mean())\n",
    "# test[Answers] = test[Answers].fillna(test[Answers].mean())\n",
    "for data in dataset:\n",
    "    data[Answers] = data[Answers].fillna(data[Answers].mean())\n"
   ]
  },
  {
   "cell_type": "code",
   "execution_count": 16,
   "id": "5006d34e",
   "metadata": {
    "colab": {
     "base_uri": "https://localhost:8080/"
    },
    "executionInfo": {
     "elapsed": 28,
     "status": "ok",
     "timestamp": 1660177735043,
     "user": {
      "displayName": "김두용",
      "userId": "08691716356545693462"
     },
     "user_tz": -540
    },
    "id": "5006d34e",
    "outputId": "e7750c06-ed33-479f-a72b-48c69068eaab"
   },
   "outputs": [
    {
     "data": {
      "text/plain": [
       "Q1     0\n",
       "Q2     0\n",
       "Q3     0\n",
       "Q4     0\n",
       "Q5     0\n",
       "Q6     0\n",
       "Q7     0\n",
       "Q8     0\n",
       "Q9     0\n",
       "Q10    0\n",
       "Q11    0\n",
       "Q12    0\n",
       "Q13    0\n",
       "Q14    0\n",
       "Q15    0\n",
       "Q16    0\n",
       "Q17    0\n",
       "Q18    0\n",
       "Q19    0\n",
       "Q20    0\n",
       "Q21    0\n",
       "Q22    0\n",
       "Q23    0\n",
       "Q24    0\n",
       "Q25    0\n",
       "Q26    0\n",
       "dtype: int64"
      ]
     },
     "execution_count": 16,
     "metadata": {},
     "output_type": "execute_result"
    }
   ],
   "source": [
    "#다시 결측값 확인\n",
    "x_train[Answers].isnull().sum()"
   ]
  },
  {
   "cell_type": "code",
   "execution_count": 17,
   "id": "LJfilfq8WGGf",
   "metadata": {
    "colab": {
     "base_uri": "https://localhost:8080/"
    },
    "executionInfo": {
     "elapsed": 21,
     "status": "ok",
     "timestamp": 1660177735044,
     "user": {
      "displayName": "김두용",
      "userId": "08691716356545693462"
     },
     "user_tz": -540
    },
    "id": "LJfilfq8WGGf",
    "outputId": "a273cc0c-8171-487b-fecb-397703401413"
   },
   "outputs": [
    {
     "data": {
      "text/plain": [
       "Q1     0\n",
       "Q2     0\n",
       "Q3     0\n",
       "Q4     0\n",
       "Q5     0\n",
       "Q6     0\n",
       "Q7     0\n",
       "Q8     0\n",
       "Q9     0\n",
       "Q10    0\n",
       "Q11    0\n",
       "Q12    0\n",
       "Q13    0\n",
       "Q14    0\n",
       "Q15    0\n",
       "Q16    0\n",
       "Q17    0\n",
       "Q18    0\n",
       "Q19    0\n",
       "Q20    0\n",
       "Q21    0\n",
       "Q22    0\n",
       "Q23    0\n",
       "Q24    0\n",
       "Q25    0\n",
       "Q26    0\n",
       "dtype: int64"
      ]
     },
     "execution_count": 17,
     "metadata": {},
     "output_type": "execute_result"
    }
   ],
   "source": [
    "test[Answers].isnull().sum()"
   ]
  },
  {
   "cell_type": "code",
   "execution_count": 18,
   "id": "41f51f5b",
   "metadata": {
    "executionInfo": {
     "elapsed": 5,
     "status": "ok",
     "timestamp": 1660177735449,
     "user": {
      "displayName": "김두용",
      "userId": "08691716356545693462"
     },
     "user_tz": -540
    },
    "id": "41f51f5b"
   },
   "outputs": [],
   "source": [
    "for data in dataset:\n",
    "    data['Q_score'] = data[Answers].sum(axis=1)"
   ]
  },
  {
   "cell_type": "code",
   "execution_count": 19,
   "id": "baa9de7d",
   "metadata": {
    "colab": {
     "base_uri": "https://localhost:8080/"
    },
    "executionInfo": {
     "elapsed": 367,
     "status": "ok",
     "timestamp": 1660177736223,
     "user": {
      "displayName": "김두용",
      "userId": "08691716356545693462"
     },
     "user_tz": -540
    },
    "id": "baa9de7d",
    "outputId": "fd21aed0-06e3-410a-a212-2a317cd9dabf"
   },
   "outputs": [],
   "source": [
    "#질문별로 비율 계산하여 새로운 피처 생성\n",
    "#Ancoms = list(combinations(Answers, 2))\n",
    "\n",
    "#for data in dataset:\n",
    "  #for a,b in Ancoms:\n",
    "    #data['mach_%s_dv_%s'%(a,b)] = data[a]/data[b]\n",
    "\n"
   ]
  },
  {
   "cell_type": "code",
   "execution_count": 20,
   "id": "1fd7a630",
   "metadata": {
    "colab": {
     "base_uri": "https://localhost:8080/",
     "height": 488
    },
    "executionInfo": {
     "elapsed": 12,
     "status": "ok",
     "timestamp": 1660177736224,
     "user": {
      "displayName": "김두용",
      "userId": "08691716356545693462"
     },
     "user_tz": -540
    },
    "id": "1fd7a630",
    "outputId": "68872313-da21-4527-da8c-c7e47a059963"
   },
   "outputs": [
    {
     "data": {
      "text/html": [
       "<div>\n",
       "<style scoped>\n",
       "    .dataframe tbody tr th:only-of-type {\n",
       "        vertical-align: middle;\n",
       "    }\n",
       "\n",
       "    .dataframe tbody tr th {\n",
       "        vertical-align: top;\n",
       "    }\n",
       "\n",
       "    .dataframe thead th {\n",
       "        text-align: right;\n",
       "    }\n",
       "</style>\n",
       "<table border=\"1\" class=\"dataframe\">\n",
       "  <thead>\n",
       "    <tr style=\"text-align: right;\">\n",
       "      <th></th>\n",
       "      <th>index</th>\n",
       "      <th>Q1</th>\n",
       "      <th>Q2</th>\n",
       "      <th>Q3</th>\n",
       "      <th>Q4</th>\n",
       "      <th>Q5</th>\n",
       "      <th>Q6</th>\n",
       "      <th>Q7</th>\n",
       "      <th>Q8</th>\n",
       "      <th>Q9</th>\n",
       "      <th>...</th>\n",
       "      <th>engnat</th>\n",
       "      <th>age</th>\n",
       "      <th>hand</th>\n",
       "      <th>religion</th>\n",
       "      <th>orientation</th>\n",
       "      <th>voted</th>\n",
       "      <th>married</th>\n",
       "      <th>familysize</th>\n",
       "      <th>ASD</th>\n",
       "      <th>Q_score</th>\n",
       "    </tr>\n",
       "  </thead>\n",
       "  <tbody>\n",
       "    <tr>\n",
       "      <th>0</th>\n",
       "      <td>0</td>\n",
       "      <td>4.0</td>\n",
       "      <td>4.0</td>\n",
       "      <td>3.0</td>\n",
       "      <td>5.0</td>\n",
       "      <td>5.0</td>\n",
       "      <td>5.0</td>\n",
       "      <td>3.0</td>\n",
       "      <td>5.0</td>\n",
       "      <td>4.0</td>\n",
       "      <td>...</td>\n",
       "      <td>2.0</td>\n",
       "      <td>19</td>\n",
       "      <td>1.0</td>\n",
       "      <td>4.0</td>\n",
       "      <td>4.0</td>\n",
       "      <td>1.0</td>\n",
       "      <td>1.0</td>\n",
       "      <td>3.0</td>\n",
       "      <td>2.0</td>\n",
       "      <td>109.0</td>\n",
       "    </tr>\n",
       "    <tr>\n",
       "      <th>1</th>\n",
       "      <td>1</td>\n",
       "      <td>4.0</td>\n",
       "      <td>5.0</td>\n",
       "      <td>4.0</td>\n",
       "      <td>4.0</td>\n",
       "      <td>5.0</td>\n",
       "      <td>4.0</td>\n",
       "      <td>5.0</td>\n",
       "      <td>5.0</td>\n",
       "      <td>5.0</td>\n",
       "      <td>...</td>\n",
       "      <td>1.0</td>\n",
       "      <td>33</td>\n",
       "      <td>1.0</td>\n",
       "      <td>1.0</td>\n",
       "      <td>5.0</td>\n",
       "      <td>2.0</td>\n",
       "      <td>1.0</td>\n",
       "      <td>5.0</td>\n",
       "      <td>2.0</td>\n",
       "      <td>112.0</td>\n",
       "    </tr>\n",
       "    <tr>\n",
       "      <th>2</th>\n",
       "      <td>2</td>\n",
       "      <td>5.0</td>\n",
       "      <td>5.0</td>\n",
       "      <td>5.0</td>\n",
       "      <td>5.0</td>\n",
       "      <td>4.0</td>\n",
       "      <td>5.0</td>\n",
       "      <td>5.0</td>\n",
       "      <td>5.0</td>\n",
       "      <td>5.0</td>\n",
       "      <td>...</td>\n",
       "      <td>2.0</td>\n",
       "      <td>13</td>\n",
       "      <td>1.0</td>\n",
       "      <td>4.0</td>\n",
       "      <td>5.0</td>\n",
       "      <td>2.0</td>\n",
       "      <td>1.0</td>\n",
       "      <td>3.0</td>\n",
       "      <td>2.0</td>\n",
       "      <td>109.0</td>\n",
       "    </tr>\n",
       "    <tr>\n",
       "      <th>3</th>\n",
       "      <td>3</td>\n",
       "      <td>5.0</td>\n",
       "      <td>4.0</td>\n",
       "      <td>3.0</td>\n",
       "      <td>4.0</td>\n",
       "      <td>5.0</td>\n",
       "      <td>4.0</td>\n",
       "      <td>5.0</td>\n",
       "      <td>4.0</td>\n",
       "      <td>4.0</td>\n",
       "      <td>...</td>\n",
       "      <td>1.0</td>\n",
       "      <td>28</td>\n",
       "      <td>1.0</td>\n",
       "      <td>2.0</td>\n",
       "      <td>2.0</td>\n",
       "      <td>2.0</td>\n",
       "      <td>1.0</td>\n",
       "      <td>3.0</td>\n",
       "      <td>2.0</td>\n",
       "      <td>98.0</td>\n",
       "    </tr>\n",
       "    <tr>\n",
       "      <th>4</th>\n",
       "      <td>4</td>\n",
       "      <td>5.0</td>\n",
       "      <td>5.0</td>\n",
       "      <td>5.0</td>\n",
       "      <td>5.0</td>\n",
       "      <td>5.0</td>\n",
       "      <td>3.0</td>\n",
       "      <td>5.0</td>\n",
       "      <td>5.0</td>\n",
       "      <td>5.0</td>\n",
       "      <td>...</td>\n",
       "      <td>2.0</td>\n",
       "      <td>15</td>\n",
       "      <td>1.0</td>\n",
       "      <td>4.0</td>\n",
       "      <td>5.0</td>\n",
       "      <td>2.0</td>\n",
       "      <td>1.0</td>\n",
       "      <td>2.0</td>\n",
       "      <td>2.0</td>\n",
       "      <td>106.0</td>\n",
       "    </tr>\n",
       "    <tr>\n",
       "      <th>...</th>\n",
       "      <td>...</td>\n",
       "      <td>...</td>\n",
       "      <td>...</td>\n",
       "      <td>...</td>\n",
       "      <td>...</td>\n",
       "      <td>...</td>\n",
       "      <td>...</td>\n",
       "      <td>...</td>\n",
       "      <td>...</td>\n",
       "      <td>...</td>\n",
       "      <td>...</td>\n",
       "      <td>...</td>\n",
       "      <td>...</td>\n",
       "      <td>...</td>\n",
       "      <td>...</td>\n",
       "      <td>...</td>\n",
       "      <td>...</td>\n",
       "      <td>...</td>\n",
       "      <td>...</td>\n",
       "      <td>...</td>\n",
       "      <td>...</td>\n",
       "    </tr>\n",
       "    <tr>\n",
       "      <th>35447</th>\n",
       "      <td>35447</td>\n",
       "      <td>4.0</td>\n",
       "      <td>5.0</td>\n",
       "      <td>5.0</td>\n",
       "      <td>3.0</td>\n",
       "      <td>3.0</td>\n",
       "      <td>4.0</td>\n",
       "      <td>5.0</td>\n",
       "      <td>5.0</td>\n",
       "      <td>4.0</td>\n",
       "      <td>...</td>\n",
       "      <td>2.0</td>\n",
       "      <td>16</td>\n",
       "      <td>3.0</td>\n",
       "      <td>10.0</td>\n",
       "      <td>4.0</td>\n",
       "      <td>2.0</td>\n",
       "      <td>1.0</td>\n",
       "      <td>3.0</td>\n",
       "      <td>2.0</td>\n",
       "      <td>108.0</td>\n",
       "    </tr>\n",
       "    <tr>\n",
       "      <th>35448</th>\n",
       "      <td>35448</td>\n",
       "      <td>5.0</td>\n",
       "      <td>5.0</td>\n",
       "      <td>5.0</td>\n",
       "      <td>5.0</td>\n",
       "      <td>5.0</td>\n",
       "      <td>4.0</td>\n",
       "      <td>5.0</td>\n",
       "      <td>3.0</td>\n",
       "      <td>5.0</td>\n",
       "      <td>...</td>\n",
       "      <td>1.0</td>\n",
       "      <td>16</td>\n",
       "      <td>3.0</td>\n",
       "      <td>2.0</td>\n",
       "      <td>5.0</td>\n",
       "      <td>2.0</td>\n",
       "      <td>1.0</td>\n",
       "      <td>2.0</td>\n",
       "      <td>2.0</td>\n",
       "      <td>115.0</td>\n",
       "    </tr>\n",
       "    <tr>\n",
       "      <th>35449</th>\n",
       "      <td>35449</td>\n",
       "      <td>5.0</td>\n",
       "      <td>5.0</td>\n",
       "      <td>5.0</td>\n",
       "      <td>5.0</td>\n",
       "      <td>5.0</td>\n",
       "      <td>5.0</td>\n",
       "      <td>5.0</td>\n",
       "      <td>5.0</td>\n",
       "      <td>5.0</td>\n",
       "      <td>...</td>\n",
       "      <td>1.0</td>\n",
       "      <td>31</td>\n",
       "      <td>1.0</td>\n",
       "      <td>1.0</td>\n",
       "      <td>5.0</td>\n",
       "      <td>1.0</td>\n",
       "      <td>1.0</td>\n",
       "      <td>2.0</td>\n",
       "      <td>2.0</td>\n",
       "      <td>119.0</td>\n",
       "    </tr>\n",
       "    <tr>\n",
       "      <th>35450</th>\n",
       "      <td>35450</td>\n",
       "      <td>5.0</td>\n",
       "      <td>5.0</td>\n",
       "      <td>4.0</td>\n",
       "      <td>5.0</td>\n",
       "      <td>5.0</td>\n",
       "      <td>1.0</td>\n",
       "      <td>5.0</td>\n",
       "      <td>1.0</td>\n",
       "      <td>5.0</td>\n",
       "      <td>...</td>\n",
       "      <td>1.0</td>\n",
       "      <td>19</td>\n",
       "      <td>1.0</td>\n",
       "      <td>12.0</td>\n",
       "      <td>1.0</td>\n",
       "      <td>2.0</td>\n",
       "      <td>1.0</td>\n",
       "      <td>NaN</td>\n",
       "      <td>2.0</td>\n",
       "      <td>104.0</td>\n",
       "    </tr>\n",
       "    <tr>\n",
       "      <th>35451</th>\n",
       "      <td>35451</td>\n",
       "      <td>5.0</td>\n",
       "      <td>5.0</td>\n",
       "      <td>4.0</td>\n",
       "      <td>5.0</td>\n",
       "      <td>2.0</td>\n",
       "      <td>4.0</td>\n",
       "      <td>3.0</td>\n",
       "      <td>5.0</td>\n",
       "      <td>4.0</td>\n",
       "      <td>...</td>\n",
       "      <td>1.0</td>\n",
       "      <td>14</td>\n",
       "      <td>2.0</td>\n",
       "      <td>NaN</td>\n",
       "      <td>2.0</td>\n",
       "      <td>2.0</td>\n",
       "      <td>1.0</td>\n",
       "      <td>1.0</td>\n",
       "      <td>2.0</td>\n",
       "      <td>104.0</td>\n",
       "    </tr>\n",
       "  </tbody>\n",
       "</table>\n",
       "<p>35452 rows × 70 columns</p>\n",
       "</div>"
      ],
      "text/plain": [
       "       index   Q1   Q2   Q3   Q4   Q5   Q6   Q7   Q8   Q9  ...  engnat  age  \\\n",
       "0          0  4.0  4.0  3.0  5.0  5.0  5.0  3.0  5.0  4.0  ...     2.0   19   \n",
       "1          1  4.0  5.0  4.0  4.0  5.0  4.0  5.0  5.0  5.0  ...     1.0   33   \n",
       "2          2  5.0  5.0  5.0  5.0  4.0  5.0  5.0  5.0  5.0  ...     2.0   13   \n",
       "3          3  5.0  4.0  3.0  4.0  5.0  4.0  5.0  4.0  4.0  ...     1.0   28   \n",
       "4          4  5.0  5.0  5.0  5.0  5.0  3.0  5.0  5.0  5.0  ...     2.0   15   \n",
       "...      ...  ...  ...  ...  ...  ...  ...  ...  ...  ...  ...     ...  ...   \n",
       "35447  35447  4.0  5.0  5.0  3.0  3.0  4.0  5.0  5.0  4.0  ...     2.0   16   \n",
       "35448  35448  5.0  5.0  5.0  5.0  5.0  4.0  5.0  3.0  5.0  ...     1.0   16   \n",
       "35449  35449  5.0  5.0  5.0  5.0  5.0  5.0  5.0  5.0  5.0  ...     1.0   31   \n",
       "35450  35450  5.0  5.0  4.0  5.0  5.0  1.0  5.0  1.0  5.0  ...     1.0   19   \n",
       "35451  35451  5.0  5.0  4.0  5.0  2.0  4.0  3.0  5.0  4.0  ...     1.0   14   \n",
       "\n",
       "       hand  religion  orientation  voted  married  familysize  ASD  Q_score  \n",
       "0       1.0       4.0          4.0    1.0      1.0         3.0  2.0    109.0  \n",
       "1       1.0       1.0          5.0    2.0      1.0         5.0  2.0    112.0  \n",
       "2       1.0       4.0          5.0    2.0      1.0         3.0  2.0    109.0  \n",
       "3       1.0       2.0          2.0    2.0      1.0         3.0  2.0     98.0  \n",
       "4       1.0       4.0          5.0    2.0      1.0         2.0  2.0    106.0  \n",
       "...     ...       ...          ...    ...      ...         ...  ...      ...  \n",
       "35447   3.0      10.0          4.0    2.0      1.0         3.0  2.0    108.0  \n",
       "35448   3.0       2.0          5.0    2.0      1.0         2.0  2.0    115.0  \n",
       "35449   1.0       1.0          5.0    1.0      1.0         2.0  2.0    119.0  \n",
       "35450   1.0      12.0          1.0    2.0      1.0         NaN  2.0    104.0  \n",
       "35451   2.0       NaN          2.0    2.0      1.0         1.0  2.0    104.0  \n",
       "\n",
       "[35452 rows x 70 columns]"
      ]
     },
     "execution_count": 20,
     "metadata": {},
     "output_type": "execute_result"
    }
   ],
   "source": [
    "test"
   ]
  },
  {
   "cell_type": "code",
   "execution_count": 21,
   "id": "c93b6648",
   "metadata": {
    "colab": {
     "base_uri": "https://localhost:8080/"
    },
    "executionInfo": {
     "elapsed": 471,
     "status": "ok",
     "timestamp": 1660177736687,
     "user": {
      "displayName": "김두용",
      "userId": "08691716356545693462"
     },
     "user_tz": -540
    },
    "id": "c93b6648",
    "outputId": "35826bed-afed-40f6-b5d0-c33675d87cb8"
   },
   "outputs": [],
   "source": [
    "#Tatic/ Morality/ View로 분류하여 새로운 피처 생성\n",
    "for data in dataset:\n",
    "    data['T'] = data['Q1']+data['Q2']+data['Q3']+data['Q7']+data['Q10']+data['Q12']+data['Q15']+data['Q16'] \n",
    "    data['V'] = data['Q4']+data['Q5']+data['Q8']+data['Q11']+data['Q13']+data['Q20']\n",
    "    data['M'] = data['Q9']+data['Q19']"
   ]
  },
  {
   "cell_type": "code",
   "execution_count": 22,
   "id": "50d6182b",
   "metadata": {
    "executionInfo": {
     "elapsed": 486,
     "status": "ok",
     "timestamp": 1660177737165,
     "user": {
      "displayName": "김두용",
      "userId": "08691716356545693462"
     },
     "user_tz": -540
    },
    "id": "50d6182b"
   },
   "outputs": [],
   "source": [
    "#분산 피처 생성\n",
    "for data in dataset:\n",
    "    data['Mach_var'] = data[Answers].var(axis = 1)"
   ]
  },
  {
   "cell_type": "code",
   "execution_count": 23,
   "id": "56b11945",
   "metadata": {
    "executionInfo": {
     "elapsed": 10,
     "status": "ok",
     "timestamp": 1660177737167,
     "user": {
      "displayName": "김두용",
      "userId": "08691716356545693462"
     },
     "user_tz": -540
    },
    "id": "56b11945"
   },
   "outputs": [],
   "source": [
    "#기존 Q drop \n",
    "for data in dataset:\n",
    "    data.drop([('Q'+str(i) )for i in range(1,27)], axis = 1, inplace = True)"
   ]
  },
  {
   "cell_type": "code",
   "execution_count": 24,
   "id": "c0824d4b",
   "metadata": {},
   "outputs": [
    {
     "data": {
      "text/html": [
       "<div>\n",
       "<style scoped>\n",
       "    .dataframe tbody tr th:only-of-type {\n",
       "        vertical-align: middle;\n",
       "    }\n",
       "\n",
       "    .dataframe tbody tr th {\n",
       "        vertical-align: top;\n",
       "    }\n",
       "\n",
       "    .dataframe thead th {\n",
       "        text-align: right;\n",
       "    }\n",
       "</style>\n",
       "<table border=\"1\" class=\"dataframe\">\n",
       "  <thead>\n",
       "    <tr style=\"text-align: right;\">\n",
       "      <th></th>\n",
       "      <th>index</th>\n",
       "      <th>country</th>\n",
       "      <th>introelapse</th>\n",
       "      <th>testelapse</th>\n",
       "      <th>surveyelapse</th>\n",
       "      <th>TIPI1</th>\n",
       "      <th>TIPI2</th>\n",
       "      <th>TIPI3</th>\n",
       "      <th>TIPI4</th>\n",
       "      <th>TIPI5</th>\n",
       "      <th>...</th>\n",
       "      <th>orientation</th>\n",
       "      <th>voted</th>\n",
       "      <th>married</th>\n",
       "      <th>familysize</th>\n",
       "      <th>ASD</th>\n",
       "      <th>Q_score</th>\n",
       "      <th>T</th>\n",
       "      <th>V</th>\n",
       "      <th>M</th>\n",
       "      <th>Mach_var</th>\n",
       "    </tr>\n",
       "  </thead>\n",
       "  <tbody>\n",
       "    <tr>\n",
       "      <th>0</th>\n",
       "      <td>0</td>\n",
       "      <td>USA</td>\n",
       "      <td>3</td>\n",
       "      <td>553</td>\n",
       "      <td>6</td>\n",
       "      <td>4.0</td>\n",
       "      <td>3.0</td>\n",
       "      <td>5.0</td>\n",
       "      <td>1.0</td>\n",
       "      <td>3.0</td>\n",
       "      <td>...</td>\n",
       "      <td>4.0</td>\n",
       "      <td>2.0</td>\n",
       "      <td>1.0</td>\n",
       "      <td>4.0</td>\n",
       "      <td>2.0</td>\n",
       "      <td>95.0</td>\n",
       "      <td>34.0</td>\n",
       "      <td>26.0</td>\n",
       "      <td>6.0</td>\n",
       "      <td>3.435385</td>\n",
       "    </tr>\n",
       "    <tr>\n",
       "      <th>1</th>\n",
       "      <td>1</td>\n",
       "      <td>USA</td>\n",
       "      <td>5</td>\n",
       "      <td>85</td>\n",
       "      <td>120</td>\n",
       "      <td>4.0</td>\n",
       "      <td>2.0</td>\n",
       "      <td>3.0</td>\n",
       "      <td>5.0</td>\n",
       "      <td>3.0</td>\n",
       "      <td>...</td>\n",
       "      <td>1.0</td>\n",
       "      <td>1.0</td>\n",
       "      <td>2.0</td>\n",
       "      <td>4.0</td>\n",
       "      <td>2.0</td>\n",
       "      <td>85.0</td>\n",
       "      <td>26.0</td>\n",
       "      <td>21.0</td>\n",
       "      <td>4.0</td>\n",
       "      <td>1.964615</td>\n",
       "    </tr>\n",
       "    <tr>\n",
       "      <th>2</th>\n",
       "      <td>2</td>\n",
       "      <td>NLD</td>\n",
       "      <td>9</td>\n",
       "      <td>108</td>\n",
       "      <td>100</td>\n",
       "      <td>1.0</td>\n",
       "      <td>2.0</td>\n",
       "      <td>3.0</td>\n",
       "      <td>1.0</td>\n",
       "      <td>5.0</td>\n",
       "      <td>...</td>\n",
       "      <td>2.0</td>\n",
       "      <td>2.0</td>\n",
       "      <td>3.0</td>\n",
       "      <td>4.0</td>\n",
       "      <td>2.0</td>\n",
       "      <td>96.0</td>\n",
       "      <td>32.0</td>\n",
       "      <td>21.0</td>\n",
       "      <td>9.0</td>\n",
       "      <td>1.981538</td>\n",
       "    </tr>\n",
       "    <tr>\n",
       "      <th>3</th>\n",
       "      <td>3</td>\n",
       "      <td>USA</td>\n",
       "      <td>2</td>\n",
       "      <td>121</td>\n",
       "      <td>139</td>\n",
       "      <td>3.0</td>\n",
       "      <td>3.0</td>\n",
       "      <td>3.0</td>\n",
       "      <td>4.0</td>\n",
       "      <td>5.0</td>\n",
       "      <td>...</td>\n",
       "      <td>1.0</td>\n",
       "      <td>2.0</td>\n",
       "      <td>1.0</td>\n",
       "      <td>2.0</td>\n",
       "      <td>2.0</td>\n",
       "      <td>91.0</td>\n",
       "      <td>27.0</td>\n",
       "      <td>21.0</td>\n",
       "      <td>7.0</td>\n",
       "      <td>0.900000</td>\n",
       "    </tr>\n",
       "    <tr>\n",
       "      <th>4</th>\n",
       "      <td>4</td>\n",
       "      <td>ITA</td>\n",
       "      <td>3</td>\n",
       "      <td>640</td>\n",
       "      <td>216</td>\n",
       "      <td>3.0</td>\n",
       "      <td>3.0</td>\n",
       "      <td>4.0</td>\n",
       "      <td>4.0</td>\n",
       "      <td>4.0</td>\n",
       "      <td>...</td>\n",
       "      <td>1.0</td>\n",
       "      <td>2.0</td>\n",
       "      <td>1.0</td>\n",
       "      <td>1.0</td>\n",
       "      <td>2.0</td>\n",
       "      <td>90.0</td>\n",
       "      <td>31.0</td>\n",
       "      <td>18.0</td>\n",
       "      <td>7.0</td>\n",
       "      <td>0.978462</td>\n",
       "    </tr>\n",
       "    <tr>\n",
       "      <th>...</th>\n",
       "      <td>...</td>\n",
       "      <td>...</td>\n",
       "      <td>...</td>\n",
       "      <td>...</td>\n",
       "      <td>...</td>\n",
       "      <td>...</td>\n",
       "      <td>...</td>\n",
       "      <td>...</td>\n",
       "      <td>...</td>\n",
       "      <td>...</td>\n",
       "      <td>...</td>\n",
       "      <td>...</td>\n",
       "      <td>...</td>\n",
       "      <td>...</td>\n",
       "      <td>...</td>\n",
       "      <td>...</td>\n",
       "      <td>...</td>\n",
       "      <td>...</td>\n",
       "      <td>...</td>\n",
       "      <td>...</td>\n",
       "      <td>...</td>\n",
       "    </tr>\n",
       "    <tr>\n",
       "      <th>14995</th>\n",
       "      <td>14995</td>\n",
       "      <td>USA</td>\n",
       "      <td>12</td>\n",
       "      <td>103</td>\n",
       "      <td>161</td>\n",
       "      <td>2.0</td>\n",
       "      <td>2.0</td>\n",
       "      <td>4.0</td>\n",
       "      <td>3.0</td>\n",
       "      <td>3.0</td>\n",
       "      <td>...</td>\n",
       "      <td>3.0</td>\n",
       "      <td>2.0</td>\n",
       "      <td>1.0</td>\n",
       "      <td>3.0</td>\n",
       "      <td>2.0</td>\n",
       "      <td>87.0</td>\n",
       "      <td>31.0</td>\n",
       "      <td>19.0</td>\n",
       "      <td>5.0</td>\n",
       "      <td>1.355385</td>\n",
       "    </tr>\n",
       "    <tr>\n",
       "      <th>14996</th>\n",
       "      <td>14996</td>\n",
       "      <td>USA</td>\n",
       "      <td>31</td>\n",
       "      <td>106</td>\n",
       "      <td>179</td>\n",
       "      <td>3.0</td>\n",
       "      <td>2.0</td>\n",
       "      <td>4.0</td>\n",
       "      <td>5.0</td>\n",
       "      <td>4.0</td>\n",
       "      <td>...</td>\n",
       "      <td>1.0</td>\n",
       "      <td>1.0</td>\n",
       "      <td>2.0</td>\n",
       "      <td>3.0</td>\n",
       "      <td>2.0</td>\n",
       "      <td>105.0</td>\n",
       "      <td>35.0</td>\n",
       "      <td>22.0</td>\n",
       "      <td>5.0</td>\n",
       "      <td>1.318462</td>\n",
       "    </tr>\n",
       "    <tr>\n",
       "      <th>14997</th>\n",
       "      <td>14997</td>\n",
       "      <td>USA</td>\n",
       "      <td>17</td>\n",
       "      <td>103</td>\n",
       "      <td>168</td>\n",
       "      <td>1.0</td>\n",
       "      <td>3.0</td>\n",
       "      <td>2.0</td>\n",
       "      <td>5.0</td>\n",
       "      <td>1.0</td>\n",
       "      <td>...</td>\n",
       "      <td>2.0</td>\n",
       "      <td>1.0</td>\n",
       "      <td>1.0</td>\n",
       "      <td>3.0</td>\n",
       "      <td>1.0</td>\n",
       "      <td>120.0</td>\n",
       "      <td>39.0</td>\n",
       "      <td>29.0</td>\n",
       "      <td>8.0</td>\n",
       "      <td>0.566154</td>\n",
       "    </tr>\n",
       "    <tr>\n",
       "      <th>14998</th>\n",
       "      <td>14998</td>\n",
       "      <td>USA</td>\n",
       "      <td>14</td>\n",
       "      <td>68</td>\n",
       "      <td>109</td>\n",
       "      <td>1.0</td>\n",
       "      <td>1.0</td>\n",
       "      <td>3.0</td>\n",
       "      <td>5.0</td>\n",
       "      <td>4.0</td>\n",
       "      <td>...</td>\n",
       "      <td>4.0</td>\n",
       "      <td>2.0</td>\n",
       "      <td>2.0</td>\n",
       "      <td>2.0</td>\n",
       "      <td>1.0</td>\n",
       "      <td>107.0</td>\n",
       "      <td>35.0</td>\n",
       "      <td>20.0</td>\n",
       "      <td>10.0</td>\n",
       "      <td>1.626154</td>\n",
       "    </tr>\n",
       "    <tr>\n",
       "      <th>14999</th>\n",
       "      <td>14999</td>\n",
       "      <td>BRA</td>\n",
       "      <td>8</td>\n",
       "      <td>182</td>\n",
       "      <td>348</td>\n",
       "      <td>4.0</td>\n",
       "      <td>3.0</td>\n",
       "      <td>3.0</td>\n",
       "      <td>3.0</td>\n",
       "      <td>4.0</td>\n",
       "      <td>...</td>\n",
       "      <td>2.0</td>\n",
       "      <td>2.0</td>\n",
       "      <td>1.0</td>\n",
       "      <td>1.0</td>\n",
       "      <td>2.0</td>\n",
       "      <td>89.0</td>\n",
       "      <td>30.0</td>\n",
       "      <td>19.0</td>\n",
       "      <td>9.0</td>\n",
       "      <td>0.893846</td>\n",
       "    </tr>\n",
       "  </tbody>\n",
       "</table>\n",
       "<p>15000 rows × 48 columns</p>\n",
       "</div>"
      ],
      "text/plain": [
       "       index country  introelapse  testelapse  surveyelapse  TIPI1  TIPI2  \\\n",
       "0          0     USA            3         553             6    4.0    3.0   \n",
       "1          1     USA            5          85           120    4.0    2.0   \n",
       "2          2     NLD            9         108           100    1.0    2.0   \n",
       "3          3     USA            2         121           139    3.0    3.0   \n",
       "4          4     ITA            3         640           216    3.0    3.0   \n",
       "...      ...     ...          ...         ...           ...    ...    ...   \n",
       "14995  14995     USA           12         103           161    2.0    2.0   \n",
       "14996  14996     USA           31         106           179    3.0    2.0   \n",
       "14997  14997     USA           17         103           168    1.0    3.0   \n",
       "14998  14998     USA           14          68           109    1.0    1.0   \n",
       "14999  14999     BRA            8         182           348    4.0    3.0   \n",
       "\n",
       "       TIPI3  TIPI4  TIPI5  ...  orientation  voted  married  familysize  ASD  \\\n",
       "0        5.0    1.0    3.0  ...          4.0    2.0      1.0         4.0  2.0   \n",
       "1        3.0    5.0    3.0  ...          1.0    1.0      2.0         4.0  2.0   \n",
       "2        3.0    1.0    5.0  ...          2.0    2.0      3.0         4.0  2.0   \n",
       "3        3.0    4.0    5.0  ...          1.0    2.0      1.0         2.0  2.0   \n",
       "4        4.0    4.0    4.0  ...          1.0    2.0      1.0         1.0  2.0   \n",
       "...      ...    ...    ...  ...          ...    ...      ...         ...  ...   \n",
       "14995    4.0    3.0    3.0  ...          3.0    2.0      1.0         3.0  2.0   \n",
       "14996    4.0    5.0    4.0  ...          1.0    1.0      2.0         3.0  2.0   \n",
       "14997    2.0    5.0    1.0  ...          2.0    1.0      1.0         3.0  1.0   \n",
       "14998    3.0    5.0    4.0  ...          4.0    2.0      2.0         2.0  1.0   \n",
       "14999    3.0    3.0    4.0  ...          2.0    2.0      1.0         1.0  2.0   \n",
       "\n",
       "       Q_score     T     V     M  Mach_var  \n",
       "0         95.0  34.0  26.0   6.0  3.435385  \n",
       "1         85.0  26.0  21.0   4.0  1.964615  \n",
       "2         96.0  32.0  21.0   9.0  1.981538  \n",
       "3         91.0  27.0  21.0   7.0  0.900000  \n",
       "4         90.0  31.0  18.0   7.0  0.978462  \n",
       "...        ...   ...   ...   ...       ...  \n",
       "14995     87.0  31.0  19.0   5.0  1.355385  \n",
       "14996    105.0  35.0  22.0   5.0  1.318462  \n",
       "14997    120.0  39.0  29.0   8.0  0.566154  \n",
       "14998    107.0  35.0  20.0  10.0  1.626154  \n",
       "14999     89.0  30.0  19.0   9.0  0.893846  \n",
       "\n",
       "[15000 rows x 48 columns]"
      ]
     },
     "execution_count": 24,
     "metadata": {},
     "output_type": "execute_result"
    }
   ],
   "source": [
    "x_train"
   ]
  },
  {
   "cell_type": "code",
   "execution_count": 25,
   "id": "634ac6e2",
   "metadata": {},
   "outputs": [
    {
     "data": {
      "text/html": [
       "<div>\n",
       "<style scoped>\n",
       "    .dataframe tbody tr th:only-of-type {\n",
       "        vertical-align: middle;\n",
       "    }\n",
       "\n",
       "    .dataframe tbody tr th {\n",
       "        vertical-align: top;\n",
       "    }\n",
       "\n",
       "    .dataframe thead th {\n",
       "        text-align: right;\n",
       "    }\n",
       "</style>\n",
       "<table border=\"1\" class=\"dataframe\">\n",
       "  <thead>\n",
       "    <tr style=\"text-align: right;\">\n",
       "      <th></th>\n",
       "      <th>index</th>\n",
       "      <th>country</th>\n",
       "      <th>introelapse</th>\n",
       "      <th>testelapse</th>\n",
       "      <th>surveyelapse</th>\n",
       "      <th>TIPI1</th>\n",
       "      <th>TIPI2</th>\n",
       "      <th>TIPI3</th>\n",
       "      <th>TIPI4</th>\n",
       "      <th>TIPI5</th>\n",
       "      <th>...</th>\n",
       "      <th>orientation</th>\n",
       "      <th>voted</th>\n",
       "      <th>married</th>\n",
       "      <th>familysize</th>\n",
       "      <th>ASD</th>\n",
       "      <th>Q_score</th>\n",
       "      <th>T</th>\n",
       "      <th>V</th>\n",
       "      <th>M</th>\n",
       "      <th>Mach_var</th>\n",
       "    </tr>\n",
       "  </thead>\n",
       "  <tbody>\n",
       "    <tr>\n",
       "      <th>0</th>\n",
       "      <td>0</td>\n",
       "      <td>CHL</td>\n",
       "      <td>9</td>\n",
       "      <td>114</td>\n",
       "      <td>243</td>\n",
       "      <td>2.0</td>\n",
       "      <td>4.0</td>\n",
       "      <td>3.0</td>\n",
       "      <td>4.0</td>\n",
       "      <td>3.0</td>\n",
       "      <td>...</td>\n",
       "      <td>4.0</td>\n",
       "      <td>1.0</td>\n",
       "      <td>1.0</td>\n",
       "      <td>3.0</td>\n",
       "      <td>2.0</td>\n",
       "      <td>109.0</td>\n",
       "      <td>30.0</td>\n",
       "      <td>26.0</td>\n",
       "      <td>8.0</td>\n",
       "      <td>0.721538</td>\n",
       "    </tr>\n",
       "    <tr>\n",
       "      <th>1</th>\n",
       "      <td>1</td>\n",
       "      <td>USA</td>\n",
       "      <td>18</td>\n",
       "      <td>107</td>\n",
       "      <td>206</td>\n",
       "      <td>1.0</td>\n",
       "      <td>4.0</td>\n",
       "      <td>3.0</td>\n",
       "      <td>5.0</td>\n",
       "      <td>4.0</td>\n",
       "      <td>...</td>\n",
       "      <td>5.0</td>\n",
       "      <td>2.0</td>\n",
       "      <td>1.0</td>\n",
       "      <td>5.0</td>\n",
       "      <td>2.0</td>\n",
       "      <td>112.0</td>\n",
       "      <td>34.0</td>\n",
       "      <td>28.0</td>\n",
       "      <td>10.0</td>\n",
       "      <td>0.781538</td>\n",
       "    </tr>\n",
       "    <tr>\n",
       "      <th>2</th>\n",
       "      <td>2</td>\n",
       "      <td>IDN</td>\n",
       "      <td>4</td>\n",
       "      <td>87</td>\n",
       "      <td>191</td>\n",
       "      <td>3.0</td>\n",
       "      <td>3.0</td>\n",
       "      <td>4.0</td>\n",
       "      <td>3.0</td>\n",
       "      <td>4.0</td>\n",
       "      <td>...</td>\n",
       "      <td>5.0</td>\n",
       "      <td>2.0</td>\n",
       "      <td>1.0</td>\n",
       "      <td>3.0</td>\n",
       "      <td>2.0</td>\n",
       "      <td>109.0</td>\n",
       "      <td>36.0</td>\n",
       "      <td>23.0</td>\n",
       "      <td>7.0</td>\n",
       "      <td>1.521538</td>\n",
       "    </tr>\n",
       "    <tr>\n",
       "      <th>3</th>\n",
       "      <td>3</td>\n",
       "      <td>AUS</td>\n",
       "      <td>2409</td>\n",
       "      <td>155</td>\n",
       "      <td>258</td>\n",
       "      <td>1.0</td>\n",
       "      <td>4.0</td>\n",
       "      <td>3.0</td>\n",
       "      <td>3.0</td>\n",
       "      <td>4.0</td>\n",
       "      <td>...</td>\n",
       "      <td>2.0</td>\n",
       "      <td>2.0</td>\n",
       "      <td>1.0</td>\n",
       "      <td>3.0</td>\n",
       "      <td>2.0</td>\n",
       "      <td>98.0</td>\n",
       "      <td>32.0</td>\n",
       "      <td>24.0</td>\n",
       "      <td>9.0</td>\n",
       "      <td>1.384615</td>\n",
       "    </tr>\n",
       "    <tr>\n",
       "      <th>4</th>\n",
       "      <td>4</td>\n",
       "      <td>PHL</td>\n",
       "      <td>24</td>\n",
       "      <td>163</td>\n",
       "      <td>289</td>\n",
       "      <td>3.0</td>\n",
       "      <td>3.0</td>\n",
       "      <td>3.0</td>\n",
       "      <td>5.0</td>\n",
       "      <td>5.0</td>\n",
       "      <td>...</td>\n",
       "      <td>5.0</td>\n",
       "      <td>2.0</td>\n",
       "      <td>1.0</td>\n",
       "      <td>2.0</td>\n",
       "      <td>2.0</td>\n",
       "      <td>106.0</td>\n",
       "      <td>38.0</td>\n",
       "      <td>26.0</td>\n",
       "      <td>6.0</td>\n",
       "      <td>1.753846</td>\n",
       "    </tr>\n",
       "    <tr>\n",
       "      <th>...</th>\n",
       "      <td>...</td>\n",
       "      <td>...</td>\n",
       "      <td>...</td>\n",
       "      <td>...</td>\n",
       "      <td>...</td>\n",
       "      <td>...</td>\n",
       "      <td>...</td>\n",
       "      <td>...</td>\n",
       "      <td>...</td>\n",
       "      <td>...</td>\n",
       "      <td>...</td>\n",
       "      <td>...</td>\n",
       "      <td>...</td>\n",
       "      <td>...</td>\n",
       "      <td>...</td>\n",
       "      <td>...</td>\n",
       "      <td>...</td>\n",
       "      <td>...</td>\n",
       "      <td>...</td>\n",
       "      <td>...</td>\n",
       "      <td>...</td>\n",
       "    </tr>\n",
       "    <tr>\n",
       "      <th>35447</th>\n",
       "      <td>35447</td>\n",
       "      <td>USA</td>\n",
       "      <td>10</td>\n",
       "      <td>200</td>\n",
       "      <td>254</td>\n",
       "      <td>3.0</td>\n",
       "      <td>5.0</td>\n",
       "      <td>5.0</td>\n",
       "      <td>5.0</td>\n",
       "      <td>5.0</td>\n",
       "      <td>...</td>\n",
       "      <td>4.0</td>\n",
       "      <td>2.0</td>\n",
       "      <td>1.0</td>\n",
       "      <td>3.0</td>\n",
       "      <td>2.0</td>\n",
       "      <td>108.0</td>\n",
       "      <td>34.0</td>\n",
       "      <td>26.0</td>\n",
       "      <td>8.0</td>\n",
       "      <td>0.615385</td>\n",
       "    </tr>\n",
       "    <tr>\n",
       "      <th>35448</th>\n",
       "      <td>35448</td>\n",
       "      <td>GBR</td>\n",
       "      <td>504</td>\n",
       "      <td>136</td>\n",
       "      <td>155</td>\n",
       "      <td>3.0</td>\n",
       "      <td>3.0</td>\n",
       "      <td>5.0</td>\n",
       "      <td>5.0</td>\n",
       "      <td>3.0</td>\n",
       "      <td>...</td>\n",
       "      <td>5.0</td>\n",
       "      <td>2.0</td>\n",
       "      <td>1.0</td>\n",
       "      <td>2.0</td>\n",
       "      <td>2.0</td>\n",
       "      <td>115.0</td>\n",
       "      <td>35.0</td>\n",
       "      <td>28.0</td>\n",
       "      <td>10.0</td>\n",
       "      <td>0.973846</td>\n",
       "    </tr>\n",
       "    <tr>\n",
       "      <th>35449</th>\n",
       "      <td>35449</td>\n",
       "      <td>USA</td>\n",
       "      <td>27</td>\n",
       "      <td>121</td>\n",
       "      <td>191</td>\n",
       "      <td>1.0</td>\n",
       "      <td>5.0</td>\n",
       "      <td>4.0</td>\n",
       "      <td>3.0</td>\n",
       "      <td>4.0</td>\n",
       "      <td>...</td>\n",
       "      <td>5.0</td>\n",
       "      <td>1.0</td>\n",
       "      <td>1.0</td>\n",
       "      <td>2.0</td>\n",
       "      <td>2.0</td>\n",
       "      <td>119.0</td>\n",
       "      <td>40.0</td>\n",
       "      <td>28.0</td>\n",
       "      <td>10.0</td>\n",
       "      <td>1.293846</td>\n",
       "    </tr>\n",
       "    <tr>\n",
       "      <th>35450</th>\n",
       "      <td>35450</td>\n",
       "      <td>CAN</td>\n",
       "      <td>3</td>\n",
       "      <td>58</td>\n",
       "      <td>105</td>\n",
       "      <td>3.0</td>\n",
       "      <td>5.0</td>\n",
       "      <td>5.0</td>\n",
       "      <td>1.0</td>\n",
       "      <td>5.0</td>\n",
       "      <td>...</td>\n",
       "      <td>1.0</td>\n",
       "      <td>2.0</td>\n",
       "      <td>1.0</td>\n",
       "      <td>NaN</td>\n",
       "      <td>2.0</td>\n",
       "      <td>104.0</td>\n",
       "      <td>31.0</td>\n",
       "      <td>21.0</td>\n",
       "      <td>10.0</td>\n",
       "      <td>2.880000</td>\n",
       "    </tr>\n",
       "    <tr>\n",
       "      <th>35451</th>\n",
       "      <td>35451</td>\n",
       "      <td>GBR</td>\n",
       "      <td>158</td>\n",
       "      <td>269</td>\n",
       "      <td>178</td>\n",
       "      <td>1.0</td>\n",
       "      <td>5.0</td>\n",
       "      <td>3.0</td>\n",
       "      <td>5.0</td>\n",
       "      <td>4.0</td>\n",
       "      <td>...</td>\n",
       "      <td>2.0</td>\n",
       "      <td>2.0</td>\n",
       "      <td>1.0</td>\n",
       "      <td>1.0</td>\n",
       "      <td>2.0</td>\n",
       "      <td>104.0</td>\n",
       "      <td>31.0</td>\n",
       "      <td>23.0</td>\n",
       "      <td>9.0</td>\n",
       "      <td>1.440000</td>\n",
       "    </tr>\n",
       "  </tbody>\n",
       "</table>\n",
       "<p>35452 rows × 48 columns</p>\n",
       "</div>"
      ],
      "text/plain": [
       "       index country  introelapse  testelapse  surveyelapse  TIPI1  TIPI2  \\\n",
       "0          0     CHL            9         114           243    2.0    4.0   \n",
       "1          1     USA           18         107           206    1.0    4.0   \n",
       "2          2     IDN            4          87           191    3.0    3.0   \n",
       "3          3     AUS         2409         155           258    1.0    4.0   \n",
       "4          4     PHL           24         163           289    3.0    3.0   \n",
       "...      ...     ...          ...         ...           ...    ...    ...   \n",
       "35447  35447     USA           10         200           254    3.0    5.0   \n",
       "35448  35448     GBR          504         136           155    3.0    3.0   \n",
       "35449  35449     USA           27         121           191    1.0    5.0   \n",
       "35450  35450     CAN            3          58           105    3.0    5.0   \n",
       "35451  35451     GBR          158         269           178    1.0    5.0   \n",
       "\n",
       "       TIPI3  TIPI4  TIPI5  ...  orientation  voted  married  familysize  ASD  \\\n",
       "0        3.0    4.0    3.0  ...          4.0    1.0      1.0         3.0  2.0   \n",
       "1        3.0    5.0    4.0  ...          5.0    2.0      1.0         5.0  2.0   \n",
       "2        4.0    3.0    4.0  ...          5.0    2.0      1.0         3.0  2.0   \n",
       "3        3.0    3.0    4.0  ...          2.0    2.0      1.0         3.0  2.0   \n",
       "4        3.0    5.0    5.0  ...          5.0    2.0      1.0         2.0  2.0   \n",
       "...      ...    ...    ...  ...          ...    ...      ...         ...  ...   \n",
       "35447    5.0    5.0    5.0  ...          4.0    2.0      1.0         3.0  2.0   \n",
       "35448    5.0    5.0    3.0  ...          5.0    2.0      1.0         2.0  2.0   \n",
       "35449    4.0    3.0    4.0  ...          5.0    1.0      1.0         2.0  2.0   \n",
       "35450    5.0    1.0    5.0  ...          1.0    2.0      1.0         NaN  2.0   \n",
       "35451    3.0    5.0    4.0  ...          2.0    2.0      1.0         1.0  2.0   \n",
       "\n",
       "       Q_score     T     V     M  Mach_var  \n",
       "0        109.0  30.0  26.0   8.0  0.721538  \n",
       "1        112.0  34.0  28.0  10.0  0.781538  \n",
       "2        109.0  36.0  23.0   7.0  1.521538  \n",
       "3         98.0  32.0  24.0   9.0  1.384615  \n",
       "4        106.0  38.0  26.0   6.0  1.753846  \n",
       "...        ...   ...   ...   ...       ...  \n",
       "35447    108.0  34.0  26.0   8.0  0.615385  \n",
       "35448    115.0  35.0  28.0  10.0  0.973846  \n",
       "35449    119.0  40.0  28.0  10.0  1.293846  \n",
       "35450    104.0  31.0  21.0  10.0  2.880000  \n",
       "35451    104.0  31.0  23.0   9.0  1.440000  \n",
       "\n",
       "[35452 rows x 48 columns]"
      ]
     },
     "execution_count": 25,
     "metadata": {},
     "output_type": "execute_result"
    }
   ],
   "source": [
    "test"
   ]
  },
  {
   "cell_type": "markdown",
   "id": "02ad6e72",
   "metadata": {
    "id": "02ad6e72"
   },
   "source": [
    "## country"
   ]
  },
  {
   "cell_type": "markdown",
   "id": "0e13de10",
   "metadata": {
    "id": "0e13de10"
   },
   "source": [
    "- nerdiness와는 무관하다고 판단되어 drop함"
   ]
  },
  {
   "cell_type": "code",
   "execution_count": 26,
   "id": "ca45a03e",
   "metadata": {
    "executionInfo": {
     "elapsed": 5,
     "status": "ok",
     "timestamp": 1660177737509,
     "user": {
      "displayName": "김두용",
      "userId": "08691716356545693462"
     },
     "user_tz": -540
    },
    "id": "ca45a03e"
   },
   "outputs": [],
   "source": [
    "x_train = x_train.drop(columns=['country'], axis = 1)\n",
    "test = test.drop(columns = ['country'], axis = 1)"
   ]
  },
  {
   "cell_type": "markdown",
   "id": "c3eb25b0",
   "metadata": {
    "id": "c3eb25b0"
   },
   "source": [
    "## elapse"
   ]
  },
  {
   "cell_type": "code",
   "execution_count": 27,
   "id": "f9990661",
   "metadata": {
    "executionInfo": {
     "elapsed": 3,
     "status": "ok",
     "timestamp": 1660177737885,
     "user": {
      "displayName": "김두용",
      "userId": "08691716356545693462"
     },
     "user_tz": -540
    },
    "id": "f9990661"
   },
   "outputs": [],
   "source": [
    "elapse = ['introelapse', 'testelapse', 'surveyelapse']"
   ]
  },
  {
   "cell_type": "code",
   "execution_count": 28,
   "id": "7ae705c1",
   "metadata": {
    "executionInfo": {
     "elapsed": 4,
     "status": "ok",
     "timestamp": 1660177738992,
     "user": {
      "displayName": "김두용",
      "userId": "08691716356545693462"
     },
     "user_tz": -540
    },
    "id": "7ae705c1"
   },
   "outputs": [],
   "source": [
    "# plt.figure(figsize=(8,6))\n",
    "# sns.countplot(data=train, x='introelapse', hue = train['nerdiness'])"
   ]
  },
  {
   "cell_type": "code",
   "execution_count": 29,
   "id": "b254ed22",
   "metadata": {
    "executionInfo": {
     "elapsed": 5,
     "status": "ok",
     "timestamp": 1660177739873,
     "user": {
      "displayName": "김두용",
      "userId": "08691716356545693462"
     },
     "user_tz": -540
    },
    "id": "b254ed22"
   },
   "outputs": [],
   "source": [
    "# sns.distplot(train['introelapse'], rug=True)"
   ]
  },
  {
   "cell_type": "code",
   "execution_count": 30,
   "id": "df60367b",
   "metadata": {
    "executionInfo": {
     "elapsed": 5,
     "status": "ok",
     "timestamp": 1660177740178,
     "user": {
      "displayName": "김두용",
      "userId": "08691716356545693462"
     },
     "user_tz": -540
    },
    "id": "df60367b"
   },
   "outputs": [],
   "source": [
    "# elapse_correlations = train[elapse].corr(method = 'spearman')\n",
    "# sns.heatmap(elapse_correlations, cmap=\"coolwarm\", square=True, center=0)"
   ]
  },
  {
   "cell_type": "markdown",
   "id": "f7bd2a12",
   "metadata": {
    "id": "f7bd2a12"
   },
   "source": [
    "intro는 test와 survey와 상관관계가 없다고 판단 "
   ]
  },
  {
   "cell_type": "code",
   "execution_count": 31,
   "id": "ce1f8908",
   "metadata": {
    "executionInfo": {
     "elapsed": 6,
     "status": "ok",
     "timestamp": 1660177741229,
     "user": {
      "displayName": "김두용",
      "userId": "08691716356545693462"
     },
     "user_tz": -540
    },
    "id": "ce1f8908"
   },
   "outputs": [],
   "source": [
    "#걸린시간 합\n",
    "x_train['elapse_sum'] = x_train['testelapse']+x_train['surveyelapse']\n",
    "test['elapse_sum'] = test['testelapse']+test['surveyelapse']\n"
   ]
  },
  {
   "cell_type": "code",
   "execution_count": 32,
   "id": "b723bb85",
   "metadata": {
    "executionInfo": {
     "elapsed": 5,
     "status": "ok",
     "timestamp": 1660177741686,
     "user": {
      "displayName": "김두용",
      "userId": "08691716356545693462"
     },
     "user_tz": -540
    },
    "id": "b723bb85"
   },
   "outputs": [],
   "source": [
    "#비율도 만들어보기..\n",
    "x_train['test_dv_survey']=x_train['testelapse']/x_train['surveyelapse'] \n",
    "test['test_dv_survey']=test['testelapse']/test['surveyelapse'] \n"
   ]
  },
  {
   "cell_type": "markdown",
   "id": "aa30d578",
   "metadata": {
    "id": "aa30d578"
   },
   "source": [
    "## TIPI"
   ]
  },
  {
   "cell_type": "markdown",
   "id": "954cd912",
   "metadata": {
    "id": "954cd912"
   },
   "source": [
    "##### The TIPI items were rated \"I see myself as:\" _____ such that"
   ]
  },
  {
   "cell_type": "markdown",
   "id": "94524dfb",
   "metadata": {
    "id": "94524dfb"
   },
   "source": [
    "- TIPI1\tExtraverted, enthusiastic. :외향적, 열정적\n",
    "- TIPI2\tCritical, quarrelsome. :비판적, 시비걸기\n",
    "- TIPI3\tDependable, self-disciplined. :신뢰할 수 있는, 자신의 규칙이 있는\n",
    "- TIPI4\tAnxious, easily upset. :불안한, 쉽게 우울한\n",
    "- TIPI5\tOpen to new experiences, complex. :새 경험, 복잡성에 대한 열려있는\n",
    "- TIPI6\tReserved, quiet. :말수가 적고 조용한\n",
    "- TIPI7\tSympathetic, warm. :동정심 많은, 따뜻한\n",
    "- TIPI8\tDisorganized, careless. :무질서한, 부주의한\n",
    "- TIPI9\tCalm, emotionally stable. :침착한, 정서적으로 안정된\n",
    "- TIPI10\tConventional, uncreative. :틀에 박힌, 창의적이지 않은"
   ]
  },
  {
   "cell_type": "code",
   "execution_count": 33,
   "id": "e65ef32b",
   "metadata": {
    "colab": {
     "base_uri": "https://localhost:8080/",
     "height": 308
    },
    "executionInfo": {
     "elapsed": 875,
     "status": "ok",
     "timestamp": 1660177745915,
     "user": {
      "displayName": "김두용",
      "userId": "08691716356545693462"
     },
     "user_tz": -540
    },
    "id": "e65ef32b",
    "outputId": "b58303cb-0416-4e2c-d2e6-9fcda326e774"
   },
   "outputs": [
    {
     "data": {
      "text/plain": [
       "<AxesSubplot:>"
      ]
     },
     "execution_count": 33,
     "metadata": {},
     "output_type": "execute_result"
    },
    {
     "data": {
      "image/png": "[encoded data removed]",
      "text/plain": [
       "<Figure size 432x288 with 2 Axes>"
      ]
     },
     "metadata": {
      "needs_background": "light"
     },
     "output_type": "display_data"
    }
   ],
   "source": [
    "TIPI = []\n",
    "for i in range(1,11):\n",
    "    TIPI.append('TIPI'+str(i))\n",
    "\n",
    "TIPI_correlations = train[TIPI].corr(method = 'spearman')\n",
    "sns.heatmap(TIPI_correlations, cmap=\"coolwarm\", square=True, center=0)"
   ]
  },
  {
   "cell_type": "markdown",
   "id": "965d0d65",
   "metadata": {
    "id": "965d0d65"
   },
   "source": [
    "(1) TIPI 결측치 평균으로 대체"
   ]
  },
  {
   "cell_type": "code",
   "execution_count": 34,
   "id": "8d460a37",
   "metadata": {
    "executionInfo": {
     "elapsed": 333,
     "status": "ok",
     "timestamp": 1660177751648,
     "user": {
      "displayName": "김두용",
      "userId": "08691716356545693462"
     },
     "user_tz": -540
    },
    "id": "8d460a37"
   },
   "outputs": [],
   "source": [
    "for data in dataset:\n",
    "    data[TIPI] = data[TIPI].fillna(data[TIPI].mean())"
   ]
  },
  {
   "cell_type": "code",
   "execution_count": 35,
   "id": "bdd37362",
   "metadata": {},
   "outputs": [
    {
     "name": "stdout",
     "output_type": "stream",
     "text": [
      "TIPI1     0\n",
      "TIPI2     0\n",
      "TIPI3     0\n",
      "TIPI4     0\n",
      "TIPI5     0\n",
      "TIPI6     0\n",
      "TIPI7     0\n",
      "TIPI8     0\n",
      "TIPI9     0\n",
      "TIPI10    0\n",
      "dtype: int64\n",
      "TIPI1     0\n",
      "TIPI2     0\n",
      "TIPI3     0\n",
      "TIPI4     0\n",
      "TIPI5     0\n",
      "TIPI6     0\n",
      "TIPI7     0\n",
      "TIPI8     0\n",
      "TIPI9     0\n",
      "TIPI10    0\n",
      "dtype: int64\n"
     ]
    }
   ],
   "source": [
    "for data in dataset:\n",
    "    count=data[TIPI].isnull().sum()\n",
    "    print(count)"
   ]
  },
  {
   "cell_type": "code",
   "execution_count": 36,
   "id": "815f15da",
   "metadata": {},
   "outputs": [
    {
     "data": {
      "text/plain": [
       "53"
      ]
     },
     "execution_count": 36,
     "metadata": {},
     "output_type": "execute_result"
    }
   ],
   "source": [
    "x_train['TIPI1'].isnull().sum()"
   ]
  },
  {
   "cell_type": "code",
   "execution_count": 37,
   "id": "a47fdffa",
   "metadata": {},
   "outputs": [],
   "source": [
    "x_train[TIPI] = x_train[TIPI].fillna(x_train[TIPI].mean())\n",
    "test[TIPI] = test[TIPI].fillna(test[TIPI].mean())"
   ]
  },
  {
   "cell_type": "code",
   "execution_count": 38,
   "id": "f61be1b6",
   "metadata": {},
   "outputs": [
    {
     "data": {
      "text/plain": [
       "0"
      ]
     },
     "execution_count": 38,
     "metadata": {},
     "output_type": "execute_result"
    }
   ],
   "source": [
    "x_train['TIPI3'].isnull().sum()"
   ]
  },
  {
   "cell_type": "markdown",
   "id": "a1f0dad6",
   "metadata": {
    "id": "a1f0dad6"
   },
   "source": [
    "(2) 반대되는 성격 묶기\n",
    "- TIPI1 - TIPI6\n",
    "- TIPI2 - TIPI7\n",
    "- TIPI3 - TIPI8\n",
    "- TIPI4 - TIPI9\n",
    "- TIPI5 - TIPI10"
   ]
  },
  {
   "cell_type": "code",
   "execution_count": 39,
   "id": "80594cbb",
   "metadata": {
    "executionInfo": {
     "elapsed": 314,
     "status": "ok",
     "timestamp": 1660177755417,
     "user": {
      "displayName": "김두용",
      "userId": "08691716356545693462"
     },
     "user_tz": -540
    },
    "id": "80594cbb"
   },
   "outputs": [],
   "source": [
    "x_train['Extraverted'] = x_train['TIPI1'] - x_train['TIPI6']\n",
    "x_train['Warm'] = x_train['TIPI7']-x_train['TIPI2']\n",
    "x_train['Dependable'] = x_train['TIPI3']-x_train['TIPI8']\n",
    "x_train['Calm'] = x_train['TIPI9']-x_train['TIPI4']\n",
    "x_train['OpenMind'] = x_train['TIPI5']-x_train['TIPI10']"
   ]
  },
  {
   "cell_type": "code",
   "execution_count": 40,
   "id": "dFKUa52fmD8j",
   "metadata": {
    "executionInfo": {
     "elapsed": 5,
     "status": "ok",
     "timestamp": 1660177755766,
     "user": {
      "displayName": "김두용",
      "userId": "08691716356545693462"
     },
     "user_tz": -540
    },
    "id": "dFKUa52fmD8j"
   },
   "outputs": [],
   "source": [
    "test['Extraverted'] = test['TIPI1'] - test['TIPI6']\n",
    "test['Warm'] = test['TIPI7']-test['TIPI2']\n",
    "test['Dependable'] = test['TIPI3']-test['TIPI8']\n",
    "test['Calm'] = test['TIPI9']-test['TIPI4']\n",
    "test['OpenMind'] = test['TIPI5']-test['TIPI10']"
   ]
  },
  {
   "cell_type": "code",
   "execution_count": 41,
   "id": "8bc10385",
   "metadata": {},
   "outputs": [
    {
     "data": {
      "text/plain": [
       "0"
      ]
     },
     "execution_count": 41,
     "metadata": {},
     "output_type": "execute_result"
    }
   ],
   "source": [
    "x_train['Extraverted'].isnull().sum()"
   ]
  },
  {
   "cell_type": "code",
   "execution_count": 42,
   "id": "43b2bb67",
   "metadata": {
    "executionInfo": {
     "elapsed": 410,
     "status": "ok",
     "timestamp": 1660177760337,
     "user": {
      "displayName": "김두용",
      "userId": "08691716356545693462"
     },
     "user_tz": -540
    },
    "id": "43b2bb67"
   },
   "outputs": [],
   "source": [
    "# #비율 만들기\n",
    "# from itertools import combinations\n",
    "\n",
    "# tps = ['TIPI1', 'TIPI2', 'TIPI3', 'TIPI4', 'TIPI5', 'TIPI6', 'TIPI7', 'TIPI8', 'TIPI9', 'TIPI10']\n",
    "# tpcomns = list(combinations(tps,2))\n",
    "\n",
    "# for a,b in tpcomns:\n",
    "#   x_train['TP_%s_dv_%s'%(a,b)] = x_train[a]/x_train[b]\n",
    "\n",
    "# for a,b in tpcomns:\n",
    "#   test['TP_%s_dv_%s'%(a,b)] = test[a]/test[b]\n"
   ]
  },
  {
   "cell_type": "code",
   "execution_count": 43,
   "id": "7a26c551",
   "metadata": {
    "executionInfo": {
     "elapsed": 428,
     "status": "ok",
     "timestamp": 1660177763718,
     "user": {
      "displayName": "김두용",
      "userId": "08691716356545693462"
     },
     "user_tz": -540
    },
    "id": "7a26c551"
   },
   "outputs": [],
   "source": [
    "# #비율 만들었으니 기존 TIPI drop\n",
    "\n",
    "x_train.drop([('TIPI'+str(i)) for i in range(1,10)], axis=1, inplace = True)\n",
    "x_train.drop('TIPI10', axis = 1, inplace = True)\n",
    "\n",
    "\n",
    "test.drop([('TIPI'+str(i)) for i in range(1,10)], axis=1, inplace = True)\n",
    "test.drop('TIPI10', axis = 1, inplace = True)\n"
   ]
  },
  {
   "cell_type": "markdown",
   "id": "32b9e204",
   "metadata": {
    "id": "32b9e204"
   },
   "source": [
    "## VCL"
   ]
  },
  {
   "cell_type": "code",
   "execution_count": 44,
   "id": "c19a3a3e",
   "metadata": {
    "colab": {
     "base_uri": "https://localhost:8080/"
    },
    "executionInfo": {
     "elapsed": 7,
     "status": "ok",
     "timestamp": 1660177764940,
     "user": {
      "displayName": "김두용",
      "userId": "08691716356545693462"
     },
     "user_tz": -540
    },
    "id": "c19a3a3e",
    "outputId": "da6d5584-37e8-4b3e-fc97-d8197f623c12"
   },
   "outputs": [
    {
     "name": "stdout",
     "output_type": "stream",
     "text": [
      "['VCL1', 'VCL2', 'VCL3', 'VCL4', 'VCL5', 'VCL6', 'VCL7', 'VCL8', 'VCL9', 'VCL10', 'VCL11', 'VCL12', 'VCL13', 'VCL14', 'VCL15', 'VCL16']\n"
     ]
    }
   ],
   "source": [
    "VCL = []\n",
    "for i in range(1,17):\n",
    "    VCL.append('VCL'+str(i))\n",
    "print(VCL)"
   ]
  },
  {
   "cell_type": "code",
   "execution_count": 45,
   "id": "67516156",
   "metadata": {
    "executionInfo": {
     "elapsed": 416,
     "status": "ok",
     "timestamp": 1660177766284,
     "user": {
      "displayName": "김두용",
      "userId": "08691716356545693462"
     },
     "user_tz": -540
    },
    "id": "67516156"
   },
   "outputs": [],
   "source": [
    "x_train['VCL_score'] = x_train[VCL].sum(axis=1)\n",
    "test['VCL_score'] = test[VCL].sum(axis=1)\n"
   ]
  },
  {
   "cell_type": "code",
   "execution_count": 46,
   "id": "1b5d2bfa",
   "metadata": {
    "executionInfo": {
     "elapsed": 7,
     "status": "ok",
     "timestamp": 1660177766285,
     "user": {
      "displayName": "김두용",
      "userId": "08691716356545693462"
     },
     "user_tz": -540
    },
    "id": "1b5d2bfa"
   },
   "outputs": [],
   "source": [
    "# plt.figure(figsize=(8,6))\n",
    "# sns.countplot(data=train, x='VCL_score', hue = train['nerdiness'])"
   ]
  },
  {
   "cell_type": "markdown",
   "id": "f9ce4924",
   "metadata": {
    "id": "f9ce4924"
   },
   "source": [
    "유의미한 피처라고 판단하여 score만 사용하고 기존 VCL은 drop"
   ]
  },
  {
   "cell_type": "code",
   "execution_count": 47,
   "id": "a54ddd43",
   "metadata": {
    "executionInfo": {
     "elapsed": 4,
     "status": "ok",
     "timestamp": 1660177766589,
     "user": {
      "displayName": "김두용",
      "userId": "08691716356545693462"
     },
     "user_tz": -540
    },
    "id": "a54ddd43"
   },
   "outputs": [],
   "source": [
    "#기존 VCL drop \n",
    "x_train.drop([('VCL'+str(i) )for i in range(1,17)], axis = 1, inplace = True)\n",
    "test.drop([('VCL'+str(i) )for i in range(1,17)], axis = 1, inplace = True)\n"
   ]
  },
  {
   "cell_type": "markdown",
   "id": "b5bfd820",
   "metadata": {
    "id": "b5bfd820"
   },
   "source": [
    "## education"
   ]
  },
  {
   "cell_type": "code",
   "execution_count": 48,
   "id": "6fc1c16a",
   "metadata": {
    "executionInfo": {
     "elapsed": 8,
     "status": "ok",
     "timestamp": 1660177767201,
     "user": {
      "displayName": "김두용",
      "userId": "08691716356545693462"
     },
     "user_tz": -540
    },
    "id": "6fc1c16a"
   },
   "outputs": [],
   "source": [
    "#교육수준, 결측치는 0으로 무응답 처리\n",
    "x_train['education'] = x_train['education'].fillna(0)\n",
    "test['education'] = test['education'].fillna(0)\n"
   ]
  },
  {
   "cell_type": "code",
   "execution_count": 49,
   "id": "2df60fa3",
   "metadata": {
    "executionInfo": {
     "elapsed": 6,
     "status": "ok",
     "timestamp": 1660177767202,
     "user": {
      "displayName": "김두용",
      "userId": "08691716356545693462"
     },
     "user_tz": -540
    },
    "id": "2df60fa3"
   },
   "outputs": [],
   "source": [
    "# plot_dict = train.loc[:,'education'].value_counts().to_dict()\n",
    "# x_values = sorted(plot_dict.keys())\n",
    "# y_values = [plot_dict[x] for x in x_values]\n",
    "# x_names = ['None','1','2','3','4']\n",
    "# plt.bar(x_names,y_values)\n",
    "# plt.tight_layout()\n",
    "# plt.show()"
   ]
  },
  {
   "cell_type": "code",
   "execution_count": 50,
   "id": "218dd037",
   "metadata": {
    "executionInfo": {
     "elapsed": 6,
     "status": "ok",
     "timestamp": 1660177767203,
     "user": {
      "displayName": "김두용",
      "userId": "08691716356545693462"
     },
     "user_tz": -540
    },
    "id": "218dd037"
   },
   "outputs": [],
   "source": [
    "# #education별로 nerdiness 평균 구함\n",
    "# mean_df = train.groupby('education')['nerdiness'].agg('mean')\n",
    "# display(mean_df)\n",
    "# train['education'] = train['education'].map(mean_df)\n",
    "# test['education'] = test['education'].map(mean_df)"
   ]
  },
  {
   "cell_type": "markdown",
   "id": "784a90f6",
   "metadata": {
    "id": "784a90f6"
   },
   "source": [
    "- 교육수준이 None인 경우, 약 0.568이 nerdiness\n",
    "- 1인 경우, 약 0.591이 nerdiness\n",
    "- 2인 경우, 약 0.543이 nerdiness\n",
    "- 3인 경우, 약 0.550이 nerdiness\n",
    "- 4인 경우, 약 0.533이 nerdiness"
   ]
  },
  {
   "cell_type": "markdown",
   "id": "1b355f3c",
   "metadata": {
    "id": "1b355f3c"
   },
   "source": [
    "## urban"
   ]
  },
  {
   "cell_type": "code",
   "execution_count": 51,
   "id": "762900a5",
   "metadata": {
    "executionInfo": {
     "elapsed": 3,
     "status": "ok",
     "timestamp": 1660177768134,
     "user": {
      "displayName": "김두용",
      "userId": "08691716356545693462"
     },
     "user_tz": -540
    },
    "id": "762900a5"
   },
   "outputs": [],
   "source": [
    "# plt.figure(figsize = (8,6))\n",
    "# sns.countplot(data=train, x='urban', hue = train['nerdiness'])"
   ]
  },
  {
   "cell_type": "markdown",
   "id": "358947ff",
   "metadata": {
    "id": "358947ff"
   },
   "source": [
    "## Gender"
   ]
  },
  {
   "cell_type": "code",
   "execution_count": 52,
   "id": "a7475c43",
   "metadata": {
    "executionInfo": {
     "elapsed": 3,
     "status": "ok",
     "timestamp": 1660177768135,
     "user": {
      "displayName": "김두용",
      "userId": "08691716356545693462"
     },
     "user_tz": -540
    },
    "id": "a7475c43"
   },
   "outputs": [],
   "source": [
    "# plt.figure(figsize = (8,6))\n",
    "# sns.countplot(data = train, x = 'gender', hue = train['nerdiness'])"
   ]
  },
  {
   "cell_type": "markdown",
   "id": "61c0a3d5",
   "metadata": {
    "id": "61c0a3d5"
   },
   "source": [
    "3은 무응답으로 추정\n",
    "\n",
    "->추후 대체 고려"
   ]
  },
  {
   "cell_type": "code",
   "execution_count": 53,
   "id": "32eaac22",
   "metadata": {},
   "outputs": [
    {
     "data": {
      "text/plain": [
       "19"
      ]
     },
     "execution_count": 53,
     "metadata": {},
     "output_type": "execute_result"
    }
   ],
   "source": [
    "x_train['gender'].isnull().sum()"
   ]
  },
  {
   "cell_type": "code",
   "execution_count": 54,
   "id": "8274836f",
   "metadata": {},
   "outputs": [],
   "source": [
    "x_train['gender'] = x_train['gender'].fillna(x_train['gender'].max())\n",
    "test['gender'] = test['gender'].fillna(test['gender'].max())"
   ]
  },
  {
   "cell_type": "code",
   "execution_count": 55,
   "id": "dc73d5a3",
   "metadata": {},
   "outputs": [
    {
     "data": {
      "text/plain": [
       "0"
      ]
     },
     "execution_count": 55,
     "metadata": {},
     "output_type": "execute_result"
    }
   ],
   "source": [
    "x_train['gender'].isnull().sum()"
   ]
  },
  {
   "cell_type": "markdown",
   "id": "7019017e",
   "metadata": {
    "id": "7019017e"
   },
   "source": [
    "## engnat"
   ]
  },
  {
   "cell_type": "code",
   "execution_count": 56,
   "id": "62634468",
   "metadata": {
    "executionInfo": {
     "elapsed": 3,
     "status": "ok",
     "timestamp": 1660177768814,
     "user": {
      "displayName": "김두용",
      "userId": "08691716356545693462"
     },
     "user_tz": -540
    },
    "id": "62634468"
   },
   "outputs": [],
   "source": [
    "# plt.figure(figsize = (8,6))\n",
    "# sns.countplot(data=train, x='engnat', hue = train['nerdiness'])"
   ]
  },
  {
   "cell_type": "code",
   "execution_count": 57,
   "id": "d94015ae",
   "metadata": {
    "executionInfo": {
     "elapsed": 5,
     "status": "ok",
     "timestamp": 1660177769251,
     "user": {
      "displayName": "김두용",
      "userId": "08691716356545693462"
     },
     "user_tz": -540
    },
    "id": "d94015ae"
   },
   "outputs": [],
   "source": [
    "# # 결측치 확인\n",
    "# train['engnat'].isnull().sum()"
   ]
  },
  {
   "cell_type": "code",
   "execution_count": 58,
   "id": "f0722309",
   "metadata": {
    "executionInfo": {
     "elapsed": 4,
     "status": "ok",
     "timestamp": 1660177769251,
     "user": {
      "displayName": "김두용",
      "userId": "08691716356545693462"
     },
     "user_tz": -540
    },
    "id": "f0722309"
   },
   "outputs": [],
   "source": [
    "#결측치 대체\n",
    "x_train['engnat'] = x_train['engnat'].fillna(x_train['engnat'].mean())\n",
    "test['engnat'] = test['engnat'].fillna(test['engnat'].mean())\n"
   ]
  },
  {
   "cell_type": "code",
   "execution_count": 59,
   "id": "ba692bdc",
   "metadata": {
    "executionInfo": {
     "elapsed": 5,
     "status": "ok",
     "timestamp": 1660177769252,
     "user": {
      "displayName": "김두용",
      "userId": "08691716356545693462"
     },
     "user_tz": -540
    },
    "id": "ba692bdc"
   },
   "outputs": [],
   "source": [
    "# 결측치 확인\n",
    "# train['engnat'].isnull().sum()"
   ]
  },
  {
   "cell_type": "markdown",
   "id": "954531f0",
   "metadata": {
    "id": "954531f0"
   },
   "source": [
    "## age"
   ]
  },
  {
   "cell_type": "code",
   "execution_count": 60,
   "id": "f9608fae",
   "metadata": {
    "colab": {
     "base_uri": "https://localhost:8080/",
     "height": 406
    },
    "executionInfo": {
     "elapsed": 1755,
     "status": "ok",
     "timestamp": 1660177771304,
     "user": {
      "displayName": "김두용",
      "userId": "08691716356545693462"
     },
     "user_tz": -540
    },
    "id": "f9608fae",
    "outputId": "50c6f74d-bf73-4049-8ca5-a13fc4496f50"
   },
   "outputs": [
    {
     "data": {
      "text/plain": [
       "<AxesSubplot:xlabel='age', ylabel='count'>"
      ]
     },
     "execution_count": 60,
     "metadata": {},
     "output_type": "execute_result"
    },
    {
     "data": {
      "image/png": "[encoded data removed]",
      "text/plain": [
       "<Figure size 576x432 with 1 Axes>"
      ]
     },
     "metadata": {
      "needs_background": "light"
     },
     "output_type": "display_data"
    }
   ],
   "source": [
    "plt.figure(figsize = (8,6))\n",
    "sns.countplot(data=train, x='age', hue = train['nerdiness'])"
   ]
  },
  {
   "cell_type": "code",
   "execution_count": 61,
   "id": "6cd7f741",
   "metadata": {
    "colab": {
     "base_uri": "https://localhost:8080/"
    },
    "executionInfo": {
     "elapsed": 28,
     "status": "ok",
     "timestamp": 1660177771306,
     "user": {
      "displayName": "김두용",
      "userId": "08691716356545693462"
     },
     "user_tz": -540
    },
    "id": "6cd7f741",
    "outputId": "1111d38b-b741-4e91-8665-8b7dcdc483f0"
   },
   "outputs": [
    {
     "data": {
      "text/plain": [
       "18     1386\n",
       "17     1313\n",
       "16     1239\n",
       "19     1101\n",
       "20      932\n",
       "       ... \n",
       "77        1\n",
       "99        1\n",
       "81        1\n",
       "336       1\n",
       "80        1\n",
       "Name: age, Length: 76, dtype: int64"
      ]
     },
     "execution_count": 61,
     "metadata": {},
     "output_type": "execute_result"
    }
   ],
   "source": [
    "age_counts = train['age'].value_counts()\n",
    "\n",
    "age_counts"
   ]
  },
  {
   "cell_type": "code",
   "execution_count": 62,
   "id": "4b5d46f7",
   "metadata": {
    "colab": {
     "base_uri": "https://localhost:8080/"
    },
    "executionInfo": {
     "elapsed": 20,
     "status": "ok",
     "timestamp": 1660177771307,
     "user": {
      "displayName": "김두용",
      "userId": "08691716356545693462"
     },
     "user_tz": -540
    },
    "id": "4b5d46f7",
    "outputId": "d7b2bc90-947e-4e8a-dc0f-81fd422f1222"
   },
   "outputs": [
    {
     "data": {
      "text/plain": [
       "545      1\n",
       "88       1\n",
       "722      1\n",
       "38822    1\n",
       "100      1\n",
       "77       1\n",
       "99       1\n",
       "81       1\n",
       "336      1\n",
       "80       1\n",
       "Name: age, dtype: int64"
      ]
     },
     "execution_count": 62,
     "metadata": {},
     "output_type": "execute_result"
    }
   ],
   "source": [
    "age_counts.tail(10)"
   ]
  },
  {
   "cell_type": "markdown",
   "id": "723b2a92",
   "metadata": {
    "id": "723b2a92"
   },
   "source": [
    "336살 이상치 확인\n",
    "\n",
    "-> 이상치 제거"
   ]
  },
  {
   "cell_type": "code",
   "execution_count": 63,
   "id": "b0a12342",
   "metadata": {
    "executionInfo": {
     "elapsed": 4,
     "status": "ok",
     "timestamp": 1660177773146,
     "user": {
      "displayName": "김두용",
      "userId": "08691716356545693462"
     },
     "user_tz": -540
    },
    "id": "b0a12342"
   },
   "outputs": [],
   "source": [
    "#이상치 제거\n",
    "#x_train = x_train.drop(x_train[x_train.age > 120].index)\n",
    "#x_train = x_train.drop(x_train[x_train.age < 4].index)\n",
    "\n",
    "#y_train = x_train.drop(x_train[x_train.age > 120].index)\n",
    "#y_train = x_train.drop(x_train[x_train.age < 4].index)\n",
    "\n",
    "#test = test.drop(test[test.age > 120].index)\n",
    "#test = test.drop(test[test.age < 4].index)"
   ]
  },
  {
   "cell_type": "markdown",
   "id": "377710fe",
   "metadata": {
    "id": "377710fe"
   },
   "source": [
    "## hand"
   ]
  },
  {
   "cell_type": "code",
   "execution_count": 64,
   "id": "1ac647bc",
   "metadata": {
    "colab": {
     "base_uri": "https://localhost:8080/",
     "height": 406
    },
    "executionInfo": {
     "elapsed": 14,
     "status": "ok",
     "timestamp": 1660177773592,
     "user": {
      "displayName": "김두용",
      "userId": "08691716356545693462"
     },
     "user_tz": -540
    },
    "id": "1ac647bc",
    "outputId": "4cc579cd-44ad-4313-8739-88449ca9239f"
   },
   "outputs": [
    {
     "data": {
      "text/plain": [
       "<AxesSubplot:xlabel='hand', ylabel='count'>"
      ]
     },
     "execution_count": 64,
     "metadata": {},
     "output_type": "execute_result"
    },
    {
     "data": {
      "image/png": "[encoded data removed]",
      "text/plain": [
       "<Figure size 576x432 with 1 Axes>"
      ]
     },
     "metadata": {
      "needs_background": "light"
     },
     "output_type": "display_data"
    }
   ],
   "source": [
    "plt.figure(figsize = (8,6))\n",
    "sns.countplot(data=train, x='hand', hue = train['nerdiness'])"
   ]
  },
  {
   "cell_type": "code",
   "execution_count": 65,
   "id": "ea055af3",
   "metadata": {
    "executionInfo": {
     "elapsed": 335,
     "status": "ok",
     "timestamp": 1660177774217,
     "user": {
      "displayName": "김두용",
      "userId": "08691716356545693462"
     },
     "user_tz": -540
    },
    "id": "ea055af3"
   },
   "outputs": [],
   "source": [
    "x_train.drop('hand', axis=1, inplace = True)\n",
    "test.drop('hand', axis=1, inplace = True)\n"
   ]
  },
  {
   "cell_type": "markdown",
   "id": "7a0a60cf",
   "metadata": {
    "id": "7a0a60cf"
   },
   "source": [
    "## religion"
   ]
  },
  {
   "cell_type": "code",
   "execution_count": 66,
   "id": "e443fea7",
   "metadata": {
    "colab": {
     "base_uri": "https://localhost:8080/",
     "height": 406
    },
    "executionInfo": {
     "elapsed": 532,
     "status": "ok",
     "timestamp": 1660177776140,
     "user": {
      "displayName": "김두용",
      "userId": "08691716356545693462"
     },
     "user_tz": -540
    },
    "id": "e443fea7",
    "outputId": "c6f8a00e-80fa-4360-ed27-32f52e213103"
   },
   "outputs": [
    {
     "data": {
      "text/plain": [
       "<AxesSubplot:xlabel='religion', ylabel='count'>"
      ]
     },
     "execution_count": 66,
     "metadata": {},
     "output_type": "execute_result"
    },
    {
     "data": {
      "image/png": "[encoded data removed]",
      "text/plain": [
       "<Figure size 576x432 with 1 Axes>"
      ]
     },
     "metadata": {
      "needs_background": "light"
     },
     "output_type": "display_data"
    }
   ],
   "source": [
    "plt.figure(figsize = (8,6))\n",
    "sns.countplot(data=train, x='religion', hue = train['nerdiness'])"
   ]
  },
  {
   "cell_type": "code",
   "execution_count": 67,
   "id": "a19ac9c1",
   "metadata": {
    "colab": {
     "base_uri": "https://localhost:8080/"
    },
    "executionInfo": {
     "elapsed": 14,
     "status": "ok",
     "timestamp": 1660177776608,
     "user": {
      "displayName": "김두용",
      "userId": "08691716356545693462"
     },
     "user_tz": -540
    },
    "id": "a19ac9c1",
    "outputId": "9179b3fd-8238-484f-b584-96c9f04bba10"
   },
   "outputs": [
    {
     "data": {
      "text/plain": [
       "483"
      ]
     },
     "execution_count": 67,
     "metadata": {},
     "output_type": "execute_result"
    }
   ],
   "source": [
    "# 결측치 확인\n",
    "x_train['religion'].isnull().sum()\n",
    "test['religion'].isnull().sum()"
   ]
  },
  {
   "cell_type": "code",
   "execution_count": 68,
   "id": "137c765d",
   "metadata": {
    "executionInfo": {
     "elapsed": 12,
     "status": "ok",
     "timestamp": 1660177776609,
     "user": {
      "displayName": "김두용",
      "userId": "08691716356545693462"
     },
     "user_tz": -540
    },
    "id": "137c765d"
   },
   "outputs": [],
   "source": [
    "#결측치 대체\n",
    "x_train['religion'] = x_train['religion'].fillna(x_train['religion'].mean())\n",
    "test['religion'] = test['religion'].fillna(test['religion'].mean())"
   ]
  },
  {
   "cell_type": "code",
   "execution_count": 69,
   "id": "166f5e3f",
   "metadata": {
    "colab": {
     "base_uri": "https://localhost:8080/"
    },
    "executionInfo": {
     "elapsed": 13,
     "status": "ok",
     "timestamp": 1660177776610,
     "user": {
      "displayName": "김두용",
      "userId": "08691716356545693462"
     },
     "user_tz": -540
    },
    "id": "166f5e3f",
    "outputId": "57c6b9ab-bbfc-478c-cbbb-f000bfc8940b"
   },
   "outputs": [
    {
     "data": {
      "text/plain": [
       "0"
      ]
     },
     "execution_count": 69,
     "metadata": {},
     "output_type": "execute_result"
    }
   ],
   "source": [
    "# 결측치 확인\n",
    "x_train['religion'].isnull().sum()"
   ]
  },
  {
   "cell_type": "code",
   "execution_count": 70,
   "id": "b2d240d4",
   "metadata": {},
   "outputs": [
    {
     "data": {
      "text/plain": [
       "0"
      ]
     },
     "execution_count": 70,
     "metadata": {},
     "output_type": "execute_result"
    }
   ],
   "source": [
    "test['religion'].isnull().sum()"
   ]
  },
  {
   "cell_type": "markdown",
   "id": "55de437b",
   "metadata": {
    "id": "55de437b"
   },
   "source": [
    "## orientation"
   ]
  },
  {
   "cell_type": "code",
   "execution_count": 71,
   "id": "02378b30",
   "metadata": {
    "colab": {
     "base_uri": "https://localhost:8080/",
     "height": 406
    },
    "executionInfo": {
     "elapsed": 784,
     "status": "ok",
     "timestamp": 1660177778126,
     "user": {
      "displayName": "김두용",
      "userId": "08691716356545693462"
     },
     "user_tz": -540
    },
    "id": "02378b30",
    "outputId": "5957411a-09ed-412b-8d65-20ea3ef36c55"
   },
   "outputs": [
    {
     "data": {
      "text/plain": [
       "<AxesSubplot:xlabel='orientation', ylabel='count'>"
      ]
     },
     "execution_count": 71,
     "metadata": {},
     "output_type": "execute_result"
    },
    {
     "data": {
      "image/png": "[encoded data removed]",
      "text/plain": [
       "<Figure size 576x432 with 1 Axes>"
      ]
     },
     "metadata": {
      "needs_background": "light"
     },
     "output_type": "display_data"
    }
   ],
   "source": [
    "plt.figure(figsize = (8,6))\n",
    "sns.countplot(data=train, x='orientation', hue = train['nerdiness'])"
   ]
  },
  {
   "cell_type": "code",
   "execution_count": 72,
   "id": "26b0210f",
   "metadata": {
    "colab": {
     "base_uri": "https://localhost:8080/"
    },
    "executionInfo": {
     "elapsed": 19,
     "status": "ok",
     "timestamp": 1660177778643,
     "user": {
      "displayName": "김두용",
      "userId": "08691716356545693462"
     },
     "user_tz": -540
    },
    "id": "26b0210f",
    "outputId": "a250dace-1126-4968-b443-b3aa60080c91"
   },
   "outputs": [
    {
     "data": {
      "text/plain": [
       "399"
      ]
     },
     "execution_count": 72,
     "metadata": {},
     "output_type": "execute_result"
    }
   ],
   "source": [
    "# 결측치 확인\n",
    "x_train['orientation'].isnull().sum()"
   ]
  },
  {
   "cell_type": "code",
   "execution_count": 73,
   "id": "71aae655",
   "metadata": {
    "executionInfo": {
     "elapsed": 16,
     "status": "ok",
     "timestamp": 1660177778643,
     "user": {
      "displayName": "김두용",
      "userId": "08691716356545693462"
     },
     "user_tz": -540
    },
    "id": "71aae655"
   },
   "outputs": [],
   "source": [
    "#결측치 대체\n",
    "x_train['orientation'] = x_train['orientation'].fillna(x_train['orientation'].mean())\n",
    "test['orientation'] = test['orientation'].fillna(test['orientation'].mean())\n"
   ]
  },
  {
   "cell_type": "code",
   "execution_count": 74,
   "id": "619c2fef",
   "metadata": {
    "colab": {
     "base_uri": "https://localhost:8080/"
    },
    "executionInfo": {
     "elapsed": 17,
     "status": "ok",
     "timestamp": 1660177778644,
     "user": {
      "displayName": "김두용",
      "userId": "08691716356545693462"
     },
     "user_tz": -540
    },
    "id": "619c2fef",
    "outputId": "6615e995-a039-4769-fefc-08765b94e0a5"
   },
   "outputs": [
    {
     "data": {
      "text/plain": [
       "0"
      ]
     },
     "execution_count": 74,
     "metadata": {},
     "output_type": "execute_result"
    }
   ],
   "source": [
    "# 결측치 확인\n",
    "x_train['orientation'].isnull().sum()"
   ]
  },
  {
   "cell_type": "markdown",
   "id": "2073fe98",
   "metadata": {
    "id": "2073fe98"
   },
   "source": [
    "## voted"
   ]
  },
  {
   "cell_type": "code",
   "execution_count": 75,
   "id": "1577dfa0",
   "metadata": {
    "colab": {
     "base_uri": "https://localhost:8080/",
     "height": 406
    },
    "executionInfo": {
     "elapsed": 435,
     "status": "ok",
     "timestamp": 1660177779066,
     "user": {
      "displayName": "김두용",
      "userId": "08691716356545693462"
     },
     "user_tz": -540
    },
    "id": "1577dfa0",
    "outputId": "7a0b80e5-470f-47ea-a966-44a27e09e08c"
   },
   "outputs": [
    {
     "data": {
      "text/plain": [
       "<AxesSubplot:xlabel='voted', ylabel='count'>"
      ]
     },
     "execution_count": 75,
     "metadata": {},
     "output_type": "execute_result"
    },
    {
     "data": {
      "image/png": "[encoded data removed]",
      "text/plain": [
       "<Figure size 576x432 with 1 Axes>"
      ]
     },
     "metadata": {
      "needs_background": "light"
     },
     "output_type": "display_data"
    }
   ],
   "source": [
    "plt.figure(figsize = (8,6))\n",
    "sns.countplot(data=train, x='voted', hue = train['nerdiness'])"
   ]
  },
  {
   "cell_type": "code",
   "execution_count": 76,
   "id": "227aab68",
   "metadata": {
    "colab": {
     "base_uri": "https://localhost:8080/"
    },
    "executionInfo": {
     "elapsed": 22,
     "status": "ok",
     "timestamp": 1660177779067,
     "user": {
      "displayName": "김두용",
      "userId": "08691716356545693462"
     },
     "user_tz": -540
    },
    "id": "227aab68",
    "outputId": "40c85107-02c7-4c9c-c77c-b0344f7f3157"
   },
   "outputs": [
    {
     "data": {
      "text/plain": [
       "85"
      ]
     },
     "execution_count": 76,
     "metadata": {},
     "output_type": "execute_result"
    }
   ],
   "source": [
    "# 결측치 확인\n",
    "x_train['voted'].isnull().sum()"
   ]
  },
  {
   "cell_type": "code",
   "execution_count": 77,
   "id": "d27c8679",
   "metadata": {
    "executionInfo": {
     "elapsed": 14,
     "status": "ok",
     "timestamp": 1660177779068,
     "user": {
      "displayName": "김두용",
      "userId": "08691716356545693462"
     },
     "user_tz": -540
    },
    "id": "d27c8679"
   },
   "outputs": [],
   "source": [
    "\n",
    "x_train['voted'] = x_train['voted'].fillna(x_train['voted'].mean())\n",
    "test['voted'] = test['voted'].fillna(test['voted'].mean())"
   ]
  },
  {
   "cell_type": "code",
   "execution_count": 78,
   "id": "11be67bc",
   "metadata": {
    "colab": {
     "base_uri": "https://localhost:8080/"
    },
    "executionInfo": {
     "elapsed": 15,
     "status": "ok",
     "timestamp": 1660177779070,
     "user": {
      "displayName": "김두용",
      "userId": "08691716356545693462"
     },
     "user_tz": -540
    },
    "id": "11be67bc",
    "outputId": "6a644cb3-99e9-4789-be8a-e0f88fe97542"
   },
   "outputs": [
    {
     "data": {
      "text/plain": [
       "0"
      ]
     },
     "execution_count": 78,
     "metadata": {},
     "output_type": "execute_result"
    }
   ],
   "source": [
    "# 결측치 확인\n",
    "x_train['voted'].isnull().sum()"
   ]
  },
  {
   "cell_type": "markdown",
   "id": "e4844c54",
   "metadata": {
    "id": "e4844c54"
   },
   "source": [
    "## married"
   ]
  },
  {
   "cell_type": "code",
   "execution_count": 79,
   "id": "2b56bf09",
   "metadata": {
    "colab": {
     "base_uri": "https://localhost:8080/",
     "height": 406
    },
    "executionInfo": {
     "elapsed": 14,
     "status": "ok",
     "timestamp": 1660177779744,
     "user": {
      "displayName": "김두용",
      "userId": "08691716356545693462"
     },
     "user_tz": -540
    },
    "id": "2b56bf09",
    "outputId": "3ca7f06d-28c9-4dd3-d96f-879ef734f8cc"
   },
   "outputs": [
    {
     "data": {
      "text/plain": [
       "<AxesSubplot:xlabel='married', ylabel='count'>"
      ]
     },
     "execution_count": 79,
     "metadata": {},
     "output_type": "execute_result"
    },
    {
     "data": {
      "image/png": "[encoded data removed]",
      "text/plain": [
       "<Figure size 576x432 with 1 Axes>"
      ]
     },
     "metadata": {
      "needs_background": "light"
     },
     "output_type": "display_data"
    }
   ],
   "source": [
    "plt.figure(figsize = (8,6))\n",
    "sns.countplot(data=train, x='married', hue = train['nerdiness'])"
   ]
  },
  {
   "cell_type": "code",
   "execution_count": 80,
   "id": "c34569c4",
   "metadata": {
    "colab": {
     "base_uri": "https://localhost:8080/"
    },
    "executionInfo": {
     "elapsed": 13,
     "status": "ok",
     "timestamp": 1660177780141,
     "user": {
      "displayName": "김두용",
      "userId": "08691716356545693462"
     },
     "user_tz": -540
    },
    "id": "c34569c4",
    "outputId": "1555ec88-d0d7-4df6-82c7-73e0f5164ee4"
   },
   "outputs": [
    {
     "data": {
      "text/plain": [
       "82"
      ]
     },
     "execution_count": 80,
     "metadata": {},
     "output_type": "execute_result"
    }
   ],
   "source": [
    "# 결측치 확인\n",
    "x_train['married'].isnull().sum()"
   ]
  },
  {
   "cell_type": "code",
   "execution_count": 81,
   "id": "664f7039",
   "metadata": {
    "executionInfo": {
     "elapsed": 10,
     "status": "ok",
     "timestamp": 1660177780142,
     "user": {
      "displayName": "김두용",
      "userId": "08691716356545693462"
     },
     "user_tz": -540
    },
    "id": "664f7039"
   },
   "outputs": [],
   "source": [
    "\n",
    "x_train['married'] = x_train['married'].fillna(x_train['married'].mean())\n",
    "test['married'] = test['married'].fillna(test['married'].mean())"
   ]
  },
  {
   "cell_type": "code",
   "execution_count": 82,
   "id": "02c21889",
   "metadata": {
    "colab": {
     "base_uri": "https://localhost:8080/"
    },
    "executionInfo": {
     "elapsed": 9,
     "status": "ok",
     "timestamp": 1660177780142,
     "user": {
      "displayName": "김두용",
      "userId": "08691716356545693462"
     },
     "user_tz": -540
    },
    "id": "02c21889",
    "outputId": "553c8ec6-97ed-4d0a-c63c-a277ccf7655e"
   },
   "outputs": [
    {
     "data": {
      "text/plain": [
       "0"
      ]
     },
     "execution_count": 82,
     "metadata": {},
     "output_type": "execute_result"
    }
   ],
   "source": [
    "# 결측치 재확인\n",
    "x_train['married'].isnull().sum()"
   ]
  },
  {
   "cell_type": "markdown",
   "id": "164582d1",
   "metadata": {
    "id": "164582d1"
   },
   "source": [
    "## familysize"
   ]
  },
  {
   "cell_type": "code",
   "execution_count": 83,
   "id": "e3f6fe1c",
   "metadata": {
    "colab": {
     "base_uri": "https://localhost:8080/",
     "height": 406
    },
    "executionInfo": {
     "elapsed": 590,
     "status": "ok",
     "timestamp": 1660177781491,
     "user": {
      "displayName": "김두용",
      "userId": "08691716356545693462"
     },
     "user_tz": -540
    },
    "id": "e3f6fe1c",
    "outputId": "81b6f66d-aec8-4367-b909-5d260e8ece48"
   },
   "outputs": [
    {
     "data": {
      "text/plain": [
       "<AxesSubplot:xlabel='familysize', ylabel='count'>"
      ]
     },
     "execution_count": 83,
     "metadata": {},
     "output_type": "execute_result"
    },
    {
     "data": {
      "image/png": "[encoded data removed]",
      "text/plain": [
       "<Figure size 576x432 with 1 Axes>"
      ]
     },
     "metadata": {
      "needs_background": "light"
     },
     "output_type": "display_data"
    }
   ],
   "source": [
    "plt.figure(figsize = (8,6))\n",
    "sns.countplot(data=train, x='familysize', hue = train['nerdiness'])"
   ]
  },
  {
   "cell_type": "code",
   "execution_count": 84,
   "id": "64c2128f",
   "metadata": {},
   "outputs": [
    {
     "data": {
      "text/plain": [
       "<AxesSubplot:>"
      ]
     },
     "execution_count": 84,
     "metadata": {},
     "output_type": "execute_result"
    },
    {
     "data": {
      "image/png": "[encoded data removed]",
      "text/plain": [
       "<Figure size 648x648 with 2 Axes>"
      ]
     },
     "metadata": {
      "needs_background": "light"
     },
     "output_type": "display_data"
    }
   ],
   "source": [
    "plt.figure(figsize=(9,9))\n",
    "corr = train.corr()\n",
    "sns.heatmap(corr, cmap='RdBu')"
   ]
  },
  {
   "cell_type": "code",
   "execution_count": 85,
   "id": "989d7e98",
   "metadata": {
    "executionInfo": {
     "elapsed": 14,
     "status": "ok",
     "timestamp": 1660177781491,
     "user": {
      "displayName": "김두용",
      "userId": "08691716356545693462"
     },
     "user_tz": -540
    },
    "id": "989d7e98"
   },
   "outputs": [],
   "source": [
    "#이상치 제거\n",
    "#x_train = x_train.drop(x_train[x_train.familysize > 50].index)\n",
    "#test = test.drop(test[test.familysize > 50].index)"
   ]
  },
  {
   "cell_type": "code",
   "execution_count": 86,
   "id": "bf5fc1e8",
   "metadata": {
    "colab": {
     "base_uri": "https://localhost:8080/"
    },
    "executionInfo": {
     "elapsed": 14,
     "status": "ok",
     "timestamp": 1660177781492,
     "user": {
      "displayName": "김두용",
      "userId": "08691716356545693462"
     },
     "user_tz": -540
    },
    "id": "bf5fc1e8",
    "outputId": "015b6f90-83b5-497c-d712-43b5c9006114"
   },
   "outputs": [
    {
     "data": {
      "text/plain": [
       "319"
      ]
     },
     "execution_count": 86,
     "metadata": {},
     "output_type": "execute_result"
    }
   ],
   "source": [
    "# 결측치 확인\n",
    "x_train['familysize'].isnull().sum()"
   ]
  },
  {
   "cell_type": "code",
   "execution_count": 87,
   "id": "74e6a25a",
   "metadata": {
    "executionInfo": {
     "elapsed": 7,
     "status": "ok",
     "timestamp": 1660177781926,
     "user": {
      "displayName": "김두용",
      "userId": "08691716356545693462"
     },
     "user_tz": -540
    },
    "id": "74e6a25a"
   },
   "outputs": [],
   "source": [
    "x_train['familysize'] = x_train['familysize'].fillna(x_train['familysize'].mean())\n",
    "test['familysize'] = test['familysize'].fillna(test['familysize'].mean())"
   ]
  },
  {
   "cell_type": "code",
   "execution_count": 88,
   "id": "fac96f5a",
   "metadata": {
    "colab": {
     "base_uri": "https://localhost:8080/"
    },
    "executionInfo": {
     "elapsed": 6,
     "status": "ok",
     "timestamp": 1660177781926,
     "user": {
      "displayName": "김두용",
      "userId": "08691716356545693462"
     },
     "user_tz": -540
    },
    "id": "fac96f5a",
    "outputId": "640421b0-9f3b-44e0-c7c4-7575a551d6d6"
   },
   "outputs": [
    {
     "data": {
      "text/plain": [
       "0"
      ]
     },
     "execution_count": 88,
     "metadata": {},
     "output_type": "execute_result"
    }
   ],
   "source": [
    "# 결측치 확인\n",
    "x_train['familysize'].isnull().sum()"
   ]
  },
  {
   "cell_type": "markdown",
   "id": "b737a232",
   "metadata": {
    "id": "b737a232"
   },
   "source": [
    "## ASD"
   ]
  },
  {
   "cell_type": "code",
   "execution_count": 89,
   "id": "c4487dbc",
   "metadata": {
    "colab": {
     "base_uri": "https://localhost:8080/",
     "height": 409
    },
    "executionInfo": {
     "elapsed": 402,
     "status": "ok",
     "timestamp": 1660177782650,
     "user": {
      "displayName": "김두용",
      "userId": "08691716356545693462"
     },
     "user_tz": -540
    },
    "id": "c4487dbc",
    "outputId": "0d0f20db-1073-475f-c5c8-254e7e30089c"
   },
   "outputs": [
    {
     "data": {
      "text/plain": [
       "<AxesSubplot:xlabel='ASD', ylabel='count'>"
      ]
     },
     "execution_count": 89,
     "metadata": {},
     "output_type": "execute_result"
    },
    {
     "data": {
      "image/png": "[encoded data removed]",
      "text/plain": [
       "<Figure size 576x432 with 1 Axes>"
      ]
     },
     "metadata": {
      "needs_background": "light"
     },
     "output_type": "display_data"
    }
   ],
   "source": [
    "plt.figure(figsize = (8,6))\n",
    "sns.countplot(data=train, x='ASD', hue = train['nerdiness'])"
   ]
  },
  {
   "cell_type": "code",
   "execution_count": 90,
   "id": "7d8588f4",
   "metadata": {
    "colab": {
     "base_uri": "https://localhost:8080/"
    },
    "executionInfo": {
     "elapsed": 22,
     "status": "ok",
     "timestamp": 1660177782652,
     "user": {
      "displayName": "김두용",
      "userId": "08691716356545693462"
     },
     "user_tz": -540
    },
    "id": "7d8588f4",
    "outputId": "1faad38c-12a1-45d9-b7b1-fe2d27022112"
   },
   "outputs": [
    {
     "data": {
      "text/plain": [
       "89"
      ]
     },
     "execution_count": 90,
     "metadata": {},
     "output_type": "execute_result"
    }
   ],
   "source": [
    "# 결측치 확인\n",
    "x_train['ASD'].isnull().sum()"
   ]
  },
  {
   "cell_type": "code",
   "execution_count": 91,
   "id": "1d9ae8d2",
   "metadata": {
    "executionInfo": {
     "elapsed": 15,
     "status": "ok",
     "timestamp": 1660177782652,
     "user": {
      "displayName": "김두용",
      "userId": "08691716356545693462"
     },
     "user_tz": -540
    },
    "id": "1d9ae8d2"
   },
   "outputs": [],
   "source": [
    "\n",
    "x_train['ASD'] = x_train['ASD'].fillna(x_train['ASD'].mean())\n",
    "test['ASD'] = test['ASD'].fillna(test['ASD'].mean())"
   ]
  },
  {
   "cell_type": "code",
   "execution_count": 92,
   "id": "9f061854",
   "metadata": {
    "colab": {
     "base_uri": "https://localhost:8080/"
    },
    "executionInfo": {
     "elapsed": 15,
     "status": "ok",
     "timestamp": 1660177782653,
     "user": {
      "displayName": "김두용",
      "userId": "08691716356545693462"
     },
     "user_tz": -540
    },
    "id": "9f061854",
    "outputId": "19648229-e4c8-46b4-a2c3-854847be9572"
   },
   "outputs": [
    {
     "data": {
      "text/plain": [
       "0"
      ]
     },
     "execution_count": 92,
     "metadata": {},
     "output_type": "execute_result"
    }
   ],
   "source": [
    "# 결측치 재확인\n",
    "x_train['ASD'].isnull().sum()"
   ]
  },
  {
   "cell_type": "code",
   "execution_count": 93,
   "id": "ifDhH0yiP5re",
   "metadata": {
    "executionInfo": {
     "elapsed": 10,
     "status": "ok",
     "timestamp": 1660177782959,
     "user": {
      "displayName": "김두용",
      "userId": "08691716356545693462"
     },
     "user_tz": -540
    },
    "id": "ifDhH0yiP5re"
   },
   "outputs": [],
   "source": [
    "k_fold = KFold(n_splits = 3, shuffle = True, random_state = 0)"
   ]
  },
  {
   "cell_type": "code",
   "execution_count": 94,
   "id": "9YFCxzACP1Ph",
   "metadata": {
    "colab": {
     "base_uri": "https://localhost:8080/",
     "height": 396
    },
    "executionInfo": {
     "elapsed": 483,
     "status": "error",
     "timestamp": 1660177783434,
     "user": {
      "displayName": "김두용",
      "userId": "08691716356545693462"
     },
     "user_tz": -540
    },
    "id": "9YFCxzACP1Ph",
    "outputId": "bacd595b-2b87-4d4f-c902-0668c88f53bd"
   },
   "outputs": [
    {
     "data": {
      "text/html": [
       "<style>#sk-container-id-1 {color: black;background-color: white;}#sk-container-id-1 pre{padding: 0;}#sk-container-id-1 div.sk-toggleable {background-color: white;}#sk-container-id-1 label.sk-toggleable__label {cursor: pointer;display: block;width: 100%;margin-bottom: 0;padding: 0.3em;box-sizing: border-box;text-align: center;}#sk-container-id-1 label.sk-toggleable__label-arrow:before {content: \"▸\";float: left;margin-right: 0.25em;color: #696969;}#sk-container-id-1 label.sk-toggleable__label-arrow:hover:before {color: black;}#sk-container-id-1 div.sk-estimator:hover label.sk-toggleable__label-arrow:before {color: black;}#sk-container-id-1 div.sk-toggleable__content {max-height: 0;max-width: 0;overflow: hidden;text-align: left;background-color: #f0f8ff;}#sk-container-id-1 div.sk-toggleable__content pre {margin: 0.2em;color: black;border-radius: 0.25em;background-color: #f0f8ff;}#sk-container-id-1 input.sk-toggleable__control:checked~div.sk-toggleable__content {max-height: 200px;max-width: 100%;overflow: auto;}#sk-container-id-1 input.sk-toggleable__control:checked~label.sk-toggleable__label-arrow:before {content: \"▾\";}#sk-container-id-1 div.sk-estimator input.sk-toggleable__control:checked~label.sk-toggleable__label {background-color: #d4ebff;}#sk-container-id-1 div.sk-label input.sk-toggleable__control:checked~label.sk-toggleable__label {background-color: #d4ebff;}#sk-container-id-1 input.sk-hidden--visually {border: 0;clip: rect(1px 1px 1px 1px);clip: rect(1px, 1px, 1px, 1px);height: 1px;margin: -1px;overflow: hidden;padding: 0;position: absolute;width: 1px;}#sk-container-id-1 div.sk-estimator {font-family: monospace;background-color: #f0f8ff;border: 1px dotted black;border-radius: 0.25em;box-sizing: border-box;margin-bottom: 0.5em;}#sk-container-id-1 div.sk-estimator:hover {background-color: #d4ebff;}#sk-container-id-1 div.sk-parallel-item::after {content: \"\";width: 100%;border-bottom: 1px solid gray;flex-grow: 1;}#sk-container-id-1 div.sk-label:hover label.sk-toggleable__label {background-color: #d4ebff;}#sk-container-id-1 div.sk-serial::before {content: \"\";position: absolute;border-left: 1px solid gray;box-sizing: border-box;top: 0;bottom: 0;left: 50%;z-index: 0;}#sk-container-id-1 div.sk-serial {display: flex;flex-direction: column;align-items: center;background-color: white;padding-right: 0.2em;padding-left: 0.2em;position: relative;}#sk-container-id-1 div.sk-item {position: relative;z-index: 1;}#sk-container-id-1 div.sk-parallel {display: flex;align-items: stretch;justify-content: center;background-color: white;position: relative;}#sk-container-id-1 div.sk-item::before, #sk-container-id-1 div.sk-parallel-item::before {content: \"\";position: absolute;border-left: 1px solid gray;box-sizing: border-box;top: 0;bottom: 0;left: 50%;z-index: -1;}#sk-container-id-1 div.sk-parallel-item {display: flex;flex-direction: column;z-index: 1;position: relative;background-color: white;}#sk-container-id-1 div.sk-parallel-item:first-child::after {align-self: flex-end;width: 50%;}#sk-container-id-1 div.sk-parallel-item:last-child::after {align-self: flex-start;width: 50%;}#sk-container-id-1 div.sk-parallel-item:only-child::after {width: 0;}#sk-container-id-1 div.sk-dashed-wrapped {border: 1px dashed gray;margin: 0 0.4em 0.5em 0.4em;box-sizing: border-box;padding-bottom: 0.4em;background-color: white;}#sk-container-id-1 div.sk-label label {font-family: monospace;font-weight: bold;display: inline-block;line-height: 1.2em;}#sk-container-id-1 div.sk-label-container {text-align: center;}#sk-container-id-1 div.sk-container {/* jupyter's `normalize.less` sets `[hidden] { display: none; }` but bootstrap.min.css set `[hidden] { display: none !important; }` so we also need the `!important` here to be able to override the default hidden behavior on the sphinx rendered scikit-learn.org. See: https://github.com/scikit-learn/scikit-learn/issues/21755 */display: inline-block !important;position: relative;}#sk-container-id-1 div.sk-text-repr-fallback {display: none;}</style><div id=\"sk-container-id-1\" class=\"sk-top-container\"><div class=\"sk-text-repr-fallback\"><pre>VotingClassifier(estimators=[(&#x27;r1&#x27;, RandomForestClassifier(n_estimators=500)),\n",
       "                             (&#x27;r2&#x27;, LGBMClassifier()),\n",
       "                             (&#x27;r3&#x27;, GradientBoostingClassifier())],\n",
       "                 voting=&#x27;soft&#x27;)</pre><b>In a Jupyter environment, please rerun this cell to show the HTML representation or trust the notebook. <br />On GitHub, the HTML representation is unable to render, please try loading this page with nbviewer.org.</b></div><div class=\"sk-container\" hidden><div class=\"sk-item sk-dashed-wrapped\"><div class=\"sk-label-container\"><div class=\"sk-label sk-toggleable\"><input class=\"sk-toggleable__control sk-hidden--visually\" id=\"sk-estimator-id-1\" type=\"checkbox\" ><label for=\"sk-estimator-id-1\" class=\"sk-toggleable__label sk-toggleable__label-arrow\">VotingClassifier</label><div class=\"sk-toggleable__content\"><pre>VotingClassifier(estimators=[(&#x27;r1&#x27;, RandomForestClassifier(n_estimators=500)),\n",
       "                             (&#x27;r2&#x27;, LGBMClassifier()),\n",
       "                             (&#x27;r3&#x27;, GradientBoostingClassifier())],\n",
       "                 voting=&#x27;soft&#x27;)</pre></div></div></div><div class=\"sk-parallel\"><div class=\"sk-parallel-item\"><div class=\"sk-item\"><div class=\"sk-label-container\"><div class=\"sk-label sk-toggleable\"><label>r1</label></div></div><div class=\"sk-serial\"><div class=\"sk-item\"><div class=\"sk-estimator sk-toggleable\"><input class=\"sk-toggleable__control sk-hidden--visually\" id=\"sk-estimator-id-2\" type=\"checkbox\" ><label for=\"sk-estimator-id-2\" class=\"sk-toggleable__label sk-toggleable__label-arrow\">RandomForestClassifier</label><div class=\"sk-toggleable__content\"><pre>RandomForestClassifier(n_estimators=500)</pre></div></div></div></div></div></div><div class=\"sk-parallel-item\"><div class=\"sk-item\"><div class=\"sk-label-container\"><div class=\"sk-label sk-toggleable\"><label>r2</label></div></div><div class=\"sk-serial\"><div class=\"sk-item\"><div class=\"sk-estimator sk-toggleable\"><input class=\"sk-toggleable__control sk-hidden--visually\" id=\"sk-estimator-id-3\" type=\"checkbox\" ><label for=\"sk-estimator-id-3\" class=\"sk-toggleable__label sk-toggleable__label-arrow\">LGBMClassifier</label><div class=\"sk-toggleable__content\"><pre>LGBMClassifier()</pre></div></div></div></div></div></div><div class=\"sk-parallel-item\"><div class=\"sk-item\"><div class=\"sk-label-container\"><div class=\"sk-label sk-toggleable\"><label>r3</label></div></div><div class=\"sk-serial\"><div class=\"sk-item\"><div class=\"sk-estimator sk-toggleable\"><input class=\"sk-toggleable__control sk-hidden--visually\" id=\"sk-estimator-id-4\" type=\"checkbox\" ><label for=\"sk-estimator-id-4\" class=\"sk-toggleable__label sk-toggleable__label-arrow\">GradientBoostingClassifier</label><div class=\"sk-toggleable__content\"><pre>GradientBoostingClassifier()</pre></div></div></div></div></div></div></div></div></div></div>"
      ],
      "text/plain": [
       "VotingClassifier(estimators=[('r1', RandomForestClassifier(n_estimators=500)),\n",
       "                             ('r2', LGBMClassifier()),\n",
       "                             ('r3', GradientBoostingClassifier())],\n",
       "                 voting='soft')"
      ]
     },
     "execution_count": 94,
     "metadata": {},
     "output_type": "execute_result"
    }
   ],
   "source": [
    "clf1 = RandomForestClassifier(n_estimators=500)\n",
    "clf2 = LGBMClassifier()\n",
    "clf3 = GradientBoostingClassifier()\n",
    "soft_vote  = VotingClassifier([('r1',clf1), ('r2', clf2), ('r3',clf3)], voting='soft')\n",
    "soft_vote.fit(x_train, y_train)\n",
    "\n",
    "# x_train.info()"
   ]
  },
  {
   "cell_type": "code",
   "execution_count": 95,
   "id": "762dadf9",
   "metadata": {},
   "outputs": [],
   "source": [
    "model = soft_vote\n",
    "pred_y = model.predict_proba(test)\n",
    "pred_y = pred_y[:,1]"
   ]
  },
  {
   "cell_type": "code",
   "execution_count": 96,
   "id": "0d59980e",
   "metadata": {},
   "outputs": [],
   "source": [
    "pred = soft_vote.predict(test)"
   ]
  },
  {
   "cell_type": "code",
   "execution_count": 98,
   "id": "37f56e70",
   "metadata": {},
   "outputs": [],
   "source": [
    "submission = pd.read_csv('sample_submission.csv')\n",
    "submission = pd.DataFrame({\n",
    "    \"nerdiness\" : pred_y\n",
    "})\n",
    "\n",
    "submission.to_csv('model.csv', index=False)"
   ]
  }
 ],
 "metadata": {
  "colab": {
   "collapsed_sections": [],
   "name": "nerdiness_2.ipynb",
   "provenance": []
  },
  "kernelspec": {
   "display_name": "Python 3 (ipykernel)",
   "language": "python",
   "name": "python3"
  },
  "language_info": {
   "codemirror_mode": {
    "name": "ipython",
    "version": 3
   },
   "file_extension": ".py",
   "mimetype": "text/x-python",
   "name": "python",
   "nbconvert_exporter": "python",
   "pygments_lexer": "ipython3",
   "version": "3.9.7"
  }
 },
 "nbformat": 4,
 "nbformat_minor": 5
}
